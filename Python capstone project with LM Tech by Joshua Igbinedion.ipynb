{
 "cells": [
  {
   "cell_type": "markdown",
   "id": "e6b74a8f",
   "metadata": {},
   "source": [
    "#### Python for Data Analysis Capstone project\n",
    "\n",
    "### `By: Igbinedion Joshua`"
   ]
  },
  {
   "cell_type": "code",
   "execution_count": 2,
   "id": "beee489a",
   "metadata": {},
   "outputs": [],
   "source": [
    "#Start by importing the required libraries\n",
    "import pandas as pd\n",
    "import numpy as np"
   ]
  },
  {
   "cell_type": "code",
   "execution_count": 3,
   "id": "cdc7bf16",
   "metadata": {},
   "outputs": [
    {
     "data": {
      "text/html": [
       "<div>\n",
       "<style scoped>\n",
       "    .dataframe tbody tr th:only-of-type {\n",
       "        vertical-align: middle;\n",
       "    }\n",
       "\n",
       "    .dataframe tbody tr th {\n",
       "        vertical-align: top;\n",
       "    }\n",
       "\n",
       "    .dataframe thead th {\n",
       "        text-align: right;\n",
       "    }\n",
       "</style>\n",
       "<table border=\"1\" class=\"dataframe\">\n",
       "  <thead>\n",
       "    <tr style=\"text-align: right;\">\n",
       "      <th></th>\n",
       "      <th>MOVIES</th>\n",
       "      <th>YEAR</th>\n",
       "      <th>GENRE</th>\n",
       "      <th>RATING</th>\n",
       "      <th>ONE-LINE</th>\n",
       "      <th>STARS</th>\n",
       "      <th>VOTES</th>\n",
       "      <th>RunTime</th>\n",
       "      <th>Gross</th>\n",
       "    </tr>\n",
       "  </thead>\n",
       "  <tbody>\n",
       "    <tr>\n",
       "      <th>0</th>\n",
       "      <td>Blood Red Sky</td>\n",
       "      <td>(2021)</td>\n",
       "      <td>\\nAction, Horror, Thriller</td>\n",
       "      <td>6.1</td>\n",
       "      <td>\\nA woman with a mysterious illness is forced ...</td>\n",
       "      <td>\\n    Director:\\nPeter Thorwarth\\n| \\n    Star...</td>\n",
       "      <td>21,062</td>\n",
       "      <td>121.0</td>\n",
       "      <td>NaN</td>\n",
       "    </tr>\n",
       "    <tr>\n",
       "      <th>1</th>\n",
       "      <td>Masters of the Universe: Revelation</td>\n",
       "      <td>(2021– )</td>\n",
       "      <td>\\nAnimation, Action, Adventure</td>\n",
       "      <td>5.0</td>\n",
       "      <td>\\nThe war for Eternia begins again in what may...</td>\n",
       "      <td>\\n            \\n    Stars:\\nChris Wood, \\nSara...</td>\n",
       "      <td>17,870</td>\n",
       "      <td>25.0</td>\n",
       "      <td>NaN</td>\n",
       "    </tr>\n",
       "    <tr>\n",
       "      <th>2</th>\n",
       "      <td>The Walking Dead</td>\n",
       "      <td>(2010–2022)</td>\n",
       "      <td>\\nDrama, Horror, Thriller</td>\n",
       "      <td>8.2</td>\n",
       "      <td>\\nSheriff Deputy Rick Grimes wakes up from a c...</td>\n",
       "      <td>\\n            \\n    Stars:\\nAndrew Lincoln, \\n...</td>\n",
       "      <td>885,805</td>\n",
       "      <td>44.0</td>\n",
       "      <td>NaN</td>\n",
       "    </tr>\n",
       "    <tr>\n",
       "      <th>3</th>\n",
       "      <td>Rick and Morty</td>\n",
       "      <td>(2013– )</td>\n",
       "      <td>\\nAnimation, Adventure, Comedy</td>\n",
       "      <td>9.2</td>\n",
       "      <td>\\nAn animated series that follows the exploits...</td>\n",
       "      <td>\\n            \\n    Stars:\\nJustin Roiland, \\n...</td>\n",
       "      <td>414,849</td>\n",
       "      <td>23.0</td>\n",
       "      <td>NaN</td>\n",
       "    </tr>\n",
       "    <tr>\n",
       "      <th>4</th>\n",
       "      <td>Army of Thieves</td>\n",
       "      <td>(2021)</td>\n",
       "      <td>\\nAction, Crime, Horror</td>\n",
       "      <td>NaN</td>\n",
       "      <td>\\nA prequel, set before the events of Army of ...</td>\n",
       "      <td>\\n    Director:\\nMatthias Schweighöfer\\n| \\n  ...</td>\n",
       "      <td>NaN</td>\n",
       "      <td>NaN</td>\n",
       "      <td>NaN</td>\n",
       "    </tr>\n",
       "    <tr>\n",
       "      <th>...</th>\n",
       "      <td>...</td>\n",
       "      <td>...</td>\n",
       "      <td>...</td>\n",
       "      <td>...</td>\n",
       "      <td>...</td>\n",
       "      <td>...</td>\n",
       "      <td>...</td>\n",
       "      <td>...</td>\n",
       "      <td>...</td>\n",
       "    </tr>\n",
       "    <tr>\n",
       "      <th>9994</th>\n",
       "      <td>The Imperfects</td>\n",
       "      <td>(2021– )</td>\n",
       "      <td>\\nAdventure, Drama, Fantasy</td>\n",
       "      <td>NaN</td>\n",
       "      <td>\\nAdd a Plot\\n</td>\n",
       "      <td>\\n            \\n    Stars:\\nMorgan Taylor Camp...</td>\n",
       "      <td>NaN</td>\n",
       "      <td>NaN</td>\n",
       "      <td>NaN</td>\n",
       "    </tr>\n",
       "    <tr>\n",
       "      <th>9995</th>\n",
       "      <td>Arcane</td>\n",
       "      <td>(2021– )</td>\n",
       "      <td>\\nAnimation, Action, Adventure</td>\n",
       "      <td>NaN</td>\n",
       "      <td>\\nAdd a Plot\\n</td>\n",
       "      <td>\\n</td>\n",
       "      <td>NaN</td>\n",
       "      <td>NaN</td>\n",
       "      <td>NaN</td>\n",
       "    </tr>\n",
       "    <tr>\n",
       "      <th>9996</th>\n",
       "      <td>Heart of Invictus</td>\n",
       "      <td>(2022– )</td>\n",
       "      <td>\\nDocumentary, Sport</td>\n",
       "      <td>NaN</td>\n",
       "      <td>\\nAdd a Plot\\n</td>\n",
       "      <td>\\n    Director:\\nOrlando von Einsiedel\\n| \\n  ...</td>\n",
       "      <td>NaN</td>\n",
       "      <td>NaN</td>\n",
       "      <td>NaN</td>\n",
       "    </tr>\n",
       "    <tr>\n",
       "      <th>9997</th>\n",
       "      <td>The Imperfects</td>\n",
       "      <td>(2021– )</td>\n",
       "      <td>\\nAdventure, Drama, Fantasy</td>\n",
       "      <td>NaN</td>\n",
       "      <td>\\nAdd a Plot\\n</td>\n",
       "      <td>\\n    Director:\\nJovanka Vuckovic\\n| \\n    Sta...</td>\n",
       "      <td>NaN</td>\n",
       "      <td>NaN</td>\n",
       "      <td>NaN</td>\n",
       "    </tr>\n",
       "    <tr>\n",
       "      <th>9998</th>\n",
       "      <td>The Imperfects</td>\n",
       "      <td>(2021– )</td>\n",
       "      <td>\\nAdventure, Drama, Fantasy</td>\n",
       "      <td>NaN</td>\n",
       "      <td>\\nAdd a Plot\\n</td>\n",
       "      <td>\\n    Director:\\nJovanka Vuckovic\\n| \\n    Sta...</td>\n",
       "      <td>NaN</td>\n",
       "      <td>NaN</td>\n",
       "      <td>NaN</td>\n",
       "    </tr>\n",
       "  </tbody>\n",
       "</table>\n",
       "<p>9999 rows × 9 columns</p>\n",
       "</div>"
      ],
      "text/plain": [
       "                                   MOVIES         YEAR  \\\n",
       "0                           Blood Red Sky       (2021)   \n",
       "1     Masters of the Universe: Revelation     (2021– )   \n",
       "2                        The Walking Dead  (2010–2022)   \n",
       "3                          Rick and Morty     (2013– )   \n",
       "4                         Army of Thieves       (2021)   \n",
       "...                                   ...          ...   \n",
       "9994                       The Imperfects     (2021– )   \n",
       "9995                               Arcane     (2021– )   \n",
       "9996                    Heart of Invictus     (2022– )   \n",
       "9997                       The Imperfects     (2021– )   \n",
       "9998                       The Imperfects     (2021– )   \n",
       "\n",
       "                                           GENRE  RATING  \\\n",
       "0         \\nAction, Horror, Thriller                 6.1   \n",
       "1     \\nAnimation, Action, Adventure                 5.0   \n",
       "2          \\nDrama, Horror, Thriller                 8.2   \n",
       "3     \\nAnimation, Adventure, Comedy                 9.2   \n",
       "4            \\nAction, Crime, Horror                 NaN   \n",
       "...                                          ...     ...   \n",
       "9994     \\nAdventure, Drama, Fantasy                 NaN   \n",
       "9995  \\nAnimation, Action, Adventure                 NaN   \n",
       "9996            \\nDocumentary, Sport                 NaN   \n",
       "9997     \\nAdventure, Drama, Fantasy                 NaN   \n",
       "9998     \\nAdventure, Drama, Fantasy                 NaN   \n",
       "\n",
       "                                               ONE-LINE  \\\n",
       "0     \\nA woman with a mysterious illness is forced ...   \n",
       "1     \\nThe war for Eternia begins again in what may...   \n",
       "2     \\nSheriff Deputy Rick Grimes wakes up from a c...   \n",
       "3     \\nAn animated series that follows the exploits...   \n",
       "4     \\nA prequel, set before the events of Army of ...   \n",
       "...                                                 ...   \n",
       "9994                                     \\nAdd a Plot\\n   \n",
       "9995                                     \\nAdd a Plot\\n   \n",
       "9996                                     \\nAdd a Plot\\n   \n",
       "9997                                     \\nAdd a Plot\\n   \n",
       "9998                                     \\nAdd a Plot\\n   \n",
       "\n",
       "                                                  STARS    VOTES  RunTime  \\\n",
       "0     \\n    Director:\\nPeter Thorwarth\\n| \\n    Star...   21,062    121.0   \n",
       "1     \\n            \\n    Stars:\\nChris Wood, \\nSara...   17,870     25.0   \n",
       "2     \\n            \\n    Stars:\\nAndrew Lincoln, \\n...  885,805     44.0   \n",
       "3     \\n            \\n    Stars:\\nJustin Roiland, \\n...  414,849     23.0   \n",
       "4     \\n    Director:\\nMatthias Schweighöfer\\n| \\n  ...      NaN      NaN   \n",
       "...                                                 ...      ...      ...   \n",
       "9994  \\n            \\n    Stars:\\nMorgan Taylor Camp...      NaN      NaN   \n",
       "9995                                                 \\n      NaN      NaN   \n",
       "9996  \\n    Director:\\nOrlando von Einsiedel\\n| \\n  ...      NaN      NaN   \n",
       "9997  \\n    Director:\\nJovanka Vuckovic\\n| \\n    Sta...      NaN      NaN   \n",
       "9998  \\n    Director:\\nJovanka Vuckovic\\n| \\n    Sta...      NaN      NaN   \n",
       "\n",
       "     Gross  \n",
       "0      NaN  \n",
       "1      NaN  \n",
       "2      NaN  \n",
       "3      NaN  \n",
       "4      NaN  \n",
       "...    ...  \n",
       "9994   NaN  \n",
       "9995   NaN  \n",
       "9996   NaN  \n",
       "9997   NaN  \n",
       "9998   NaN  \n",
       "\n",
       "[9999 rows x 9 columns]"
      ]
     },
     "execution_count": 3,
     "metadata": {},
     "output_type": "execute_result"
    }
   ],
   "source": [
    "#Load the given CSV dataset into pandas dataframe\n",
    "my_df = pd.read_csv(\"movies.csv\")\n",
    "import warnings\n",
    "warnings.simplefilter(action='ignore', category=FutureWarning)\n",
    "pd.options.mode.copy_on_write = True\n",
    "my_df"
   ]
  },
  {
   "cell_type": "markdown",
   "id": "bab8dd35",
   "metadata": {},
   "source": [
    "#### `DATA CLEANING`"
   ]
  },
  {
   "cell_type": "code",
   "execution_count": 5,
   "id": "dacf867e",
   "metadata": {},
   "outputs": [
    {
     "name": "stdout",
     "output_type": "stream",
     "text": [
      "<class 'pandas.core.frame.DataFrame'>\n",
      "RangeIndex: 9999 entries, 0 to 9998\n",
      "Data columns (total 9 columns):\n",
      " #   Column    Non-Null Count  Dtype  \n",
      "---  ------    --------------  -----  \n",
      " 0   MOVIES    9999 non-null   object \n",
      " 1   YEAR      9355 non-null   object \n",
      " 2   GENRE     9919 non-null   object \n",
      " 3   RATING    8179 non-null   float64\n",
      " 4   ONE-LINE  9999 non-null   object \n",
      " 5   STARS     9999 non-null   object \n",
      " 6   VOTES     8179 non-null   object \n",
      " 7   RunTime   7041 non-null   float64\n",
      " 8   Gross     460 non-null    object \n",
      "dtypes: float64(2), object(7)\n",
      "memory usage: 703.2+ KB\n"
     ]
    }
   ],
   "source": [
    "my_df.info()"
   ]
  },
  {
   "cell_type": "code",
   "execution_count": 6,
   "id": "b90bff43",
   "metadata": {},
   "outputs": [
    {
     "data": {
      "text/plain": [
       "MOVIES       object\n",
       "YEAR         object\n",
       "GENRE        object\n",
       "RATING      float64\n",
       "ONE-LINE     object\n",
       "STARS        object\n",
       "VOTES        object\n",
       "RunTime     float64\n",
       "Gross        object\n",
       "dtype: object"
      ]
     },
     "execution_count": 6,
     "metadata": {},
     "output_type": "execute_result"
    }
   ],
   "source": [
    "my_df.dtypes"
   ]
  },
  {
   "cell_type": "markdown",
   "id": "cfb03c08",
   "metadata": {},
   "source": [
    "###### First make a copy of the dataframe"
   ]
  },
  {
   "cell_type": "code",
   "execution_count": 8,
   "id": "2b4d3071",
   "metadata": {},
   "outputs": [],
   "source": [
    "my_copy = my_df.copy()"
   ]
  },
  {
   "cell_type": "markdown",
   "id": "9ef2c74a",
   "metadata": {},
   "source": [
    "###### Check for duplicated rows and drop duplicates if found"
   ]
  },
  {
   "cell_type": "code",
   "execution_count": 10,
   "id": "9254d4d4",
   "metadata": {},
   "outputs": [
    {
     "data": {
      "text/plain": [
       "431"
      ]
     },
     "execution_count": 10,
     "metadata": {},
     "output_type": "execute_result"
    }
   ],
   "source": [
    "my_df.duplicated().sum()"
   ]
  },
  {
   "cell_type": "code",
   "execution_count": 11,
   "id": "db25ed25",
   "metadata": {},
   "outputs": [],
   "source": [
    "my_df = my_df.drop_duplicates()"
   ]
  },
  {
   "cell_type": "code",
   "execution_count": 12,
   "id": "052e7659",
   "metadata": {},
   "outputs": [
    {
     "data": {
      "text/plain": [
       "0"
      ]
     },
     "execution_count": 12,
     "metadata": {},
     "output_type": "execute_result"
    }
   ],
   "source": [
    "#Just to confirm if the duplicated rows have been dropped \n",
    "my_df.duplicated().sum()"
   ]
  },
  {
   "cell_type": "markdown",
   "id": "af55847c",
   "metadata": {},
   "source": [
    "###### Check for the number of missing values per column"
   ]
  },
  {
   "cell_type": "code",
   "execution_count": 14,
   "id": "8f0e872c",
   "metadata": {},
   "outputs": [
    {
     "data": {
      "text/plain": [
       "MOVIES         0\n",
       "YEAR         542\n",
       "GENRE         78\n",
       "RATING      1400\n",
       "ONE-LINE       0\n",
       "STARS          0\n",
       "VOTES       1400\n",
       "RunTime     2560\n",
       "Gross       9108\n",
       "dtype: int64"
      ]
     },
     "execution_count": 14,
     "metadata": {},
     "output_type": "execute_result"
    }
   ],
   "source": [
    "my_df.isna().sum()"
   ]
  },
  {
   "cell_type": "markdown",
   "id": "4df15157-cc70-4cb4-ade0-96979d664930",
   "metadata": {},
   "source": [
    "###### Check for the number of duplicated movies on the movie column"
   ]
  },
  {
   "cell_type": "code",
   "execution_count": 16,
   "id": "18dadb62-f530-4bf3-9744-cd4fc3a65514",
   "metadata": {},
   "outputs": [
    {
     "name": "stdout",
     "output_type": "stream",
     "text": [
      "2751\n"
     ]
    }
   ],
   "source": [
    "duplicates = my_df.duplicated(subset=['MOVIES'])\n",
    "\n",
    "# Count the number of duplicated rows\n",
    "num_duplicates = duplicates.sum()\n",
    "print(num_duplicates)"
   ]
  },
  {
   "cell_type": "markdown",
   "id": "a3092dd5-7331-44c1-b012-3a57d49facf2",
   "metadata": {},
   "source": [
    "###### Now fill the NAN values of the duplicated rows with other rows that are not empty"
   ]
  },
  {
   "cell_type": "code",
   "execution_count": 18,
   "id": "ce126c33-e46d-441e-a2f7-f51751f721e7",
   "metadata": {},
   "outputs": [],
   "source": [
    "# Sort your DataFrame by the column the movie column\n",
    "my_df.sort_values(by='MOVIES', inplace=True)\n",
    "\n",
    "# Define a function to fill NaN values within each group\n",
    "def fill_na_within_group(group):\n",
    "    return group.ffill().bfill()\n",
    "\n",
    "# Group by the MOVIE column to check duplicates and fill NaN values\n",
    "my_df = my_df.groupby('MOVIES').apply(fill_na_within_group).reset_index(drop=True)"
   ]
  },
  {
   "cell_type": "markdown",
   "id": "3c720d4c-20ab-4114-8a6f-89dccead1f94",
   "metadata": {},
   "source": [
    "###### Drop duplicates based on the MOVIES Column and keep the first occurrence"
   ]
  },
  {
   "cell_type": "code",
   "execution_count": 20,
   "id": "cfeb1ef7-07c4-488a-820b-abe7307b005d",
   "metadata": {},
   "outputs": [],
   "source": [
    "my_df = my_df.drop_duplicates(subset=['MOVIES'], keep='first')"
   ]
  },
  {
   "cell_type": "markdown",
   "id": "1fb9ce25-1698-418d-99f2-c33a0b8eaf9f",
   "metadata": {},
   "source": [
    "###### Reset the index now"
   ]
  },
  {
   "cell_type": "code",
   "execution_count": 22,
   "id": "d3666d23-6fd1-4353-83c8-cc1174f55608",
   "metadata": {},
   "outputs": [],
   "source": [
    "my_df.reset_index(drop=True, inplace=True)"
   ]
  },
  {
   "cell_type": "code",
   "execution_count": 23,
   "id": "a059d468-7136-4847-8e4b-650b51124a53",
   "metadata": {},
   "outputs": [
    {
     "data": {
      "text/html": [
       "<div>\n",
       "<style scoped>\n",
       "    .dataframe tbody tr th:only-of-type {\n",
       "        vertical-align: middle;\n",
       "    }\n",
       "\n",
       "    .dataframe tbody tr th {\n",
       "        vertical-align: top;\n",
       "    }\n",
       "\n",
       "    .dataframe thead th {\n",
       "        text-align: right;\n",
       "    }\n",
       "</style>\n",
       "<table border=\"1\" class=\"dataframe\">\n",
       "  <thead>\n",
       "    <tr style=\"text-align: right;\">\n",
       "      <th></th>\n",
       "      <th>MOVIES</th>\n",
       "      <th>YEAR</th>\n",
       "      <th>GENRE</th>\n",
       "      <th>RATING</th>\n",
       "      <th>ONE-LINE</th>\n",
       "      <th>STARS</th>\n",
       "      <th>VOTES</th>\n",
       "      <th>RunTime</th>\n",
       "      <th>Gross</th>\n",
       "    </tr>\n",
       "  </thead>\n",
       "  <tbody>\n",
       "    <tr>\n",
       "      <th>0</th>\n",
       "      <td>13 Reasons Why</td>\n",
       "      <td>(2017–2020)</td>\n",
       "      <td>\\nDrama, Mystery, Thriller</td>\n",
       "      <td>5.1</td>\n",
       "      <td>\\nClay is forced to confront his anxiety on th...</td>\n",
       "      <td>\\n    Director:\\nMichael Sucsy\\n| \\n    Stars:...</td>\n",
       "      <td>1,714</td>\n",
       "      <td>59.0</td>\n",
       "      <td>NaN</td>\n",
       "    </tr>\n",
       "    <tr>\n",
       "      <th>1</th>\n",
       "      <td>1899</td>\n",
       "      <td>(2022– )</td>\n",
       "      <td>\\nDrama, History, Horror</td>\n",
       "      <td>NaN</td>\n",
       "      <td>\\nAdd a Plot\\n</td>\n",
       "      <td>\\n    Director:\\nBaran bo Odar\\n</td>\n",
       "      <td>NaN</td>\n",
       "      <td>NaN</td>\n",
       "      <td>NaN</td>\n",
       "    </tr>\n",
       "    <tr>\n",
       "      <th>2</th>\n",
       "      <td>3Below: Tales of Arcadia</td>\n",
       "      <td>(2018–2019)</td>\n",
       "      <td>\\nAnimation, Action, Adventure</td>\n",
       "      <td>8.6</td>\n",
       "      <td>\\nAfter learning the location of Gaylen's Core...</td>\n",
       "      <td>\\n    Director:\\nAndrew L. Schmidt\\n| \\n    St...</td>\n",
       "      <td>138</td>\n",
       "      <td>22.0</td>\n",
       "      <td>NaN</td>\n",
       "    </tr>\n",
       "    <tr>\n",
       "      <th>3</th>\n",
       "      <td>50M2</td>\n",
       "      <td>(2021– )</td>\n",
       "      <td>\\nComedy, Drama, Thriller</td>\n",
       "      <td>7.5</td>\n",
       "      <td>\\nMuhtar and Dilara face the risk of losing th...</td>\n",
       "      <td>\\n    Director:\\nBurak Aksak\\n| \\n    Stars:\\n...</td>\n",
       "      <td>111</td>\n",
       "      <td>47.0</td>\n",
       "      <td>NaN</td>\n",
       "    </tr>\n",
       "    <tr>\n",
       "      <th>4</th>\n",
       "      <td>7Seeds</td>\n",
       "      <td>(2019–2020)</td>\n",
       "      <td>\\nAnimation, Action, Adventure</td>\n",
       "      <td>7.7</td>\n",
       "      <td>\\nRyo orders Hana to join him in searching for...</td>\n",
       "      <td>\\n            \\n    Stars:\\nAmber Lee Connors,...</td>\n",
       "      <td>39</td>\n",
       "      <td>26.0</td>\n",
       "      <td>NaN</td>\n",
       "    </tr>\n",
       "    <tr>\n",
       "      <th>...</th>\n",
       "      <td>...</td>\n",
       "      <td>...</td>\n",
       "      <td>...</td>\n",
       "      <td>...</td>\n",
       "      <td>...</td>\n",
       "      <td>...</td>\n",
       "      <td>...</td>\n",
       "      <td>...</td>\n",
       "      <td>...</td>\n",
       "    </tr>\n",
       "    <tr>\n",
       "      <th>6812</th>\n",
       "      <td>Ófærð</td>\n",
       "      <td>(2015– )</td>\n",
       "      <td>\\nCrime, Drama, Mystery</td>\n",
       "      <td>8.1</td>\n",
       "      <td>\\nIn a remote town in Iceland, Police desperat...</td>\n",
       "      <td>\\n            \\n    Stars:\\nÓlafur Darri Ólafs...</td>\n",
       "      <td>17,309</td>\n",
       "      <td>60.0</td>\n",
       "      <td>NaN</td>\n",
       "    </tr>\n",
       "    <tr>\n",
       "      <th>6813</th>\n",
       "      <td>Órbita 9</td>\n",
       "      <td>(2017)</td>\n",
       "      <td>\\nDrama, Romance, Sci-Fi</td>\n",
       "      <td>5.9</td>\n",
       "      <td>\\nHelena is a young girl who spent all her lif...</td>\n",
       "      <td>\\n    Director:\\nHatem Khraiche\\n| \\n    Stars...</td>\n",
       "      <td>7,123</td>\n",
       "      <td>95.0</td>\n",
       "      <td>NaN</td>\n",
       "    </tr>\n",
       "    <tr>\n",
       "      <th>6814</th>\n",
       "      <td>Ôkami to kôshinryô</td>\n",
       "      <td>(2008–2009)</td>\n",
       "      <td>\\nAnimation, Adventure, Fantasy</td>\n",
       "      <td>8.0</td>\n",
       "      <td>\\nKraft Lawrence goes from town to town to mak...</td>\n",
       "      <td>\\n            \\n    Stars:\\nJun Fukuyama, \\nAm...</td>\n",
       "      <td>3,959</td>\n",
       "      <td>24.0</td>\n",
       "      <td>NaN</td>\n",
       "    </tr>\n",
       "    <tr>\n",
       "      <th>6815</th>\n",
       "      <td>Öldür Beni Sevgilim</td>\n",
       "      <td>(2019)</td>\n",
       "      <td>\\nComedy, Romance</td>\n",
       "      <td>4.4</td>\n",
       "      <td>\\nCan the excitement of the national lottery s...</td>\n",
       "      <td>\\n    Director:\\nSenol Sönmez\\n| \\n    Stars:\\...</td>\n",
       "      <td>1,568</td>\n",
       "      <td>104.0</td>\n",
       "      <td>NaN</td>\n",
       "    </tr>\n",
       "    <tr>\n",
       "      <th>6816</th>\n",
       "      <td>ÜberWeihnachten</td>\n",
       "      <td>(2020)</td>\n",
       "      <td>\\nComedy, Drama, Romance</td>\n",
       "      <td>6.7</td>\n",
       "      <td>\\nBastian returns home for the holidays to lea...</td>\n",
       "      <td>\\n            \\n    Stars:\\nLuke Mockridge, \\n...</td>\n",
       "      <td>1,700</td>\n",
       "      <td>48.0</td>\n",
       "      <td>NaN</td>\n",
       "    </tr>\n",
       "  </tbody>\n",
       "</table>\n",
       "<p>6817 rows × 9 columns</p>\n",
       "</div>"
      ],
      "text/plain": [
       "                         MOVIES         YEAR  \\\n",
       "0                13 Reasons Why  (2017–2020)   \n",
       "1                          1899     (2022– )   \n",
       "2      3Below: Tales of Arcadia  (2018–2019)   \n",
       "3                          50M2     (2021– )   \n",
       "4                        7Seeds  (2019–2020)   \n",
       "...                         ...          ...   \n",
       "6812                      Ófærð     (2015– )   \n",
       "6813                   Órbita 9       (2017)   \n",
       "6814         Ôkami to kôshinryô  (2008–2009)   \n",
       "6815        Öldür Beni Sevgilim       (2019)   \n",
       "6816            ÜberWeihnachten       (2020)   \n",
       "\n",
       "                                            GENRE  RATING  \\\n",
       "0          \\nDrama, Mystery, Thriller                 5.1   \n",
       "1            \\nDrama, History, Horror                 NaN   \n",
       "2      \\nAnimation, Action, Adventure                 8.6   \n",
       "3           \\nComedy, Drama, Thriller                 7.5   \n",
       "4      \\nAnimation, Action, Adventure                 7.7   \n",
       "...                                           ...     ...   \n",
       "6812          \\nCrime, Drama, Mystery                 8.1   \n",
       "6813         \\nDrama, Romance, Sci-Fi                 5.9   \n",
       "6814  \\nAnimation, Adventure, Fantasy                 8.0   \n",
       "6815                \\nComedy, Romance                 4.4   \n",
       "6816         \\nComedy, Drama, Romance                 6.7   \n",
       "\n",
       "                                               ONE-LINE  \\\n",
       "0     \\nClay is forced to confront his anxiety on th...   \n",
       "1                                        \\nAdd a Plot\\n   \n",
       "2     \\nAfter learning the location of Gaylen's Core...   \n",
       "3     \\nMuhtar and Dilara face the risk of losing th...   \n",
       "4     \\nRyo orders Hana to join him in searching for...   \n",
       "...                                                 ...   \n",
       "6812  \\nIn a remote town in Iceland, Police desperat...   \n",
       "6813  \\nHelena is a young girl who spent all her lif...   \n",
       "6814  \\nKraft Lawrence goes from town to town to mak...   \n",
       "6815  \\nCan the excitement of the national lottery s...   \n",
       "6816  \\nBastian returns home for the holidays to lea...   \n",
       "\n",
       "                                                  STARS   VOTES  RunTime Gross  \n",
       "0     \\n    Director:\\nMichael Sucsy\\n| \\n    Stars:...   1,714     59.0   NaN  \n",
       "1                      \\n    Director:\\nBaran bo Odar\\n     NaN      NaN   NaN  \n",
       "2     \\n    Director:\\nAndrew L. Schmidt\\n| \\n    St...     138     22.0   NaN  \n",
       "3     \\n    Director:\\nBurak Aksak\\n| \\n    Stars:\\n...     111     47.0   NaN  \n",
       "4     \\n            \\n    Stars:\\nAmber Lee Connors,...      39     26.0   NaN  \n",
       "...                                                 ...     ...      ...   ...  \n",
       "6812  \\n            \\n    Stars:\\nÓlafur Darri Ólafs...  17,309     60.0   NaN  \n",
       "6813  \\n    Director:\\nHatem Khraiche\\n| \\n    Stars...   7,123     95.0   NaN  \n",
       "6814  \\n            \\n    Stars:\\nJun Fukuyama, \\nAm...   3,959     24.0   NaN  \n",
       "6815  \\n    Director:\\nSenol Sönmez\\n| \\n    Stars:\\...   1,568    104.0   NaN  \n",
       "6816  \\n            \\n    Stars:\\nLuke Mockridge, \\n...   1,700     48.0   NaN  \n",
       "\n",
       "[6817 rows x 9 columns]"
      ]
     },
     "execution_count": 23,
     "metadata": {},
     "output_type": "execute_result"
    }
   ],
   "source": [
    "my_df"
   ]
  },
  {
   "cell_type": "markdown",
   "id": "16037c15",
   "metadata": {},
   "source": [
    "###### Make a copy of the new dataframe and check the total number of missing values per column"
   ]
  },
  {
   "cell_type": "code",
   "execution_count": 25,
   "id": "702fe602",
   "metadata": {},
   "outputs": [],
   "source": [
    "copy_df = my_df.copy()"
   ]
  },
  {
   "cell_type": "code",
   "execution_count": 26,
   "id": "ddd1be84",
   "metadata": {},
   "outputs": [
    {
     "data": {
      "text/plain": [
       "MOVIES         0\n",
       "YEAR         462\n",
       "GENRE         71\n",
       "RATING       999\n",
       "ONE-LINE       0\n",
       "STARS          0\n",
       "VOTES        999\n",
       "RunTime     1502\n",
       "Gross       6358\n",
       "dtype: int64"
      ]
     },
     "execution_count": 26,
     "metadata": {},
     "output_type": "execute_result"
    }
   ],
   "source": [
    "my_df.isna().sum()"
   ]
  },
  {
   "cell_type": "markdown",
   "id": "db3e9f64",
   "metadata": {},
   "source": [
    "###### Fill the missing values in GENRE and RATING COLUMS using backward fill and interpolation methods respectively"
   ]
  },
  {
   "cell_type": "code",
   "execution_count": 28,
   "id": "c02d0894",
   "metadata": {},
   "outputs": [],
   "source": [
    "#Fill the NAN values for the GENRE column using backward fill\n",
    "my_df[\"GENRE\"].bfill(inplace = True)"
   ]
  },
  {
   "cell_type": "code",
   "execution_count": 29,
   "id": "ba7718e1",
   "metadata": {},
   "outputs": [],
   "source": [
    "#Fill the RATINGS column by interpolation and round up the value to 1 decimal place\n",
    "my_df[\"RATING\"] = my_df[\"RATING\"].interpolate(method=\"linear\").round(1)"
   ]
  },
  {
   "cell_type": "markdown",
   "id": "cfa9ee91",
   "metadata": {},
   "source": [
    "###### To fill the VOTES column,\n",
    "* First fill the missing values with a place holder zero(0) to enable the conversion of the column to int datatype\n",
    "* Calculate the mean of the column without using the place holder zero(0) to avoid bias\n",
    "* Relace the place holder zero by the mean of the VOTES column"
   ]
  },
  {
   "cell_type": "code",
   "execution_count": 31,
   "id": "570d8a48",
   "metadata": {},
   "outputs": [],
   "source": [
    "#Replace \",\" in the column\n",
    "my_df[\"VOTES\"] = my_df[\"VOTES\"].str.replace(\",\", \"\")"
   ]
  },
  {
   "cell_type": "code",
   "execution_count": 32,
   "id": "c84293b4",
   "metadata": {},
   "outputs": [],
   "source": [
    "my_df[\"VOTES\"] = my_df[\"VOTES\"].fillna(0)"
   ]
  },
  {
   "cell_type": "code",
   "execution_count": 33,
   "id": "b4de80a7",
   "metadata": {},
   "outputs": [],
   "source": [
    "#Change the datatype of the \"VOTES\" column to integer\n",
    "my_df[\"VOTES\"] = my_df[\"VOTES\"].astype(int)"
   ]
  },
  {
   "cell_type": "code",
   "execution_count": 34,
   "id": "03beb390",
   "metadata": {},
   "outputs": [
    {
     "data": {
      "text/plain": [
       "20750"
      ]
     },
     "execution_count": 34,
     "metadata": {},
     "output_type": "execute_result"
    }
   ],
   "source": [
    "#Calculate the mean of the age column without using the place holder (0) in the calculation\n",
    "votes_mean = my_df[\"VOTES\"][my_df[\"VOTES\"] != 0].mean().astype(int)\n",
    "votes_mean"
   ]
  },
  {
   "cell_type": "code",
   "execution_count": 35,
   "id": "24420057",
   "metadata": {},
   "outputs": [],
   "source": [
    "#Now replace the place holder (0) with the calculated mean\n",
    "my_df[\"VOTES\"] = my_df[\"VOTES\"].replace(0, votes_mean)"
   ]
  },
  {
   "cell_type": "markdown",
   "id": "91b30167",
   "metadata": {},
   "source": [
    "###### To fill the missing values on the year column,\n",
    "* Split the year into start and end year since it is an interval\n",
    "* Drop the end year column since most of the values are missing\n",
    "* Fill the missing values with the mode of the column since it is a categorical variable"
   ]
  },
  {
   "cell_type": "code",
   "execution_count": 37,
   "id": "ef0bed1b",
   "metadata": {},
   "outputs": [],
   "source": [
    "#To work on the Year column, split into start and end year\n",
    "my_df[[\"START YEAR\", \"END YEAR\"]] = my_df[\"YEAR\"].str.split(\"–\", 1, expand = True)"
   ]
  },
  {
   "cell_type": "code",
   "execution_count": 38,
   "id": "7ecf659e",
   "metadata": {},
   "outputs": [],
   "source": [
    "#Now drop the YEAR column and the End year column since the end year column don't contain sufficient information\n",
    "my_df.drop(columns=['YEAR', 'END YEAR'], inplace=True)"
   ]
  },
  {
   "cell_type": "code",
   "execution_count": 39,
   "id": "f14db992",
   "metadata": {},
   "outputs": [],
   "source": [
    "#Now remove the irregularity in the start year column, extract the numerical value to a new column\n",
    "my_df['numeric_part'] = pd.to_numeric(my_df['START YEAR'].str.extract('(\\d+)')[0], errors='coerce')"
   ]
  },
  {
   "cell_type": "code",
   "execution_count": 40,
   "id": "066768b2",
   "metadata": {},
   "outputs": [],
   "source": [
    "#Drop the START YEAR COLUMN and rename the numeric_part column to START YEAR and convert same to integer\n",
    "my_df.drop(columns=['START YEAR'], inplace=True)"
   ]
  },
  {
   "cell_type": "code",
   "execution_count": 41,
   "id": "2ff82823",
   "metadata": {},
   "outputs": [],
   "source": [
    "my_df.rename(columns={'numeric_part': 'START YEAR'}, inplace=True)"
   ]
  },
  {
   "cell_type": "code",
   "execution_count": 42,
   "id": "7c84ea43",
   "metadata": {},
   "outputs": [],
   "source": [
    "#Replace the \"\" with nan\n",
    "my_df[\"START YEAR\"] = my_df[\"START YEAR\"].replace('', np.nan)"
   ]
  },
  {
   "cell_type": "code",
   "execution_count": 43,
   "id": "7695770e",
   "metadata": {},
   "outputs": [],
   "source": [
    "#Replace the NAN values on the START YEAR column with the mode\n",
    "my_df[\"START YEAR\"] = my_df[\"START YEAR\"].fillna(my_df[\"START YEAR\"].mode()[0])"
   ]
  },
  {
   "cell_type": "code",
   "execution_count": 44,
   "id": "7ab20987",
   "metadata": {},
   "outputs": [],
   "source": [
    "my_df[\"START YEAR\"] = my_df[\"START YEAR\"].astype(int)"
   ]
  },
  {
   "cell_type": "markdown",
   "id": "3bdd076a",
   "metadata": {},
   "source": [
    "###### Fill the NAN values on the RunTime column by interpolation method"
   ]
  },
  {
   "cell_type": "code",
   "execution_count": 46,
   "id": "5b72cbc0",
   "metadata": {},
   "outputs": [],
   "source": [
    "#Fill the RunTime column by interpolation and round up the value to 1 decimal place\n",
    "my_df[\"RunTime\"] = my_df[\"RunTime\"].interpolate(method = \"linear\").round(1)"
   ]
  },
  {
   "cell_type": "markdown",
   "id": "2e521c56",
   "metadata": {},
   "source": [
    "###### Drop the Gross column since up to 94% of the rows are empty"
   ]
  },
  {
   "cell_type": "code",
   "execution_count": 48,
   "id": "c2c23c31",
   "metadata": {},
   "outputs": [],
   "source": [
    "#Drop the Gross column since most of the rows are empty\n",
    "my_df = my_df.drop('Gross', axis=1)"
   ]
  },
  {
   "cell_type": "code",
   "execution_count": 49,
   "id": "94ad4344",
   "metadata": {},
   "outputs": [
    {
     "data": {
      "text/plain": [
       "MOVIES        0\n",
       "GENRE         0\n",
       "RATING        0\n",
       "ONE-LINE      0\n",
       "STARS         0\n",
       "VOTES         0\n",
       "RunTime       0\n",
       "START YEAR    0\n",
       "dtype: int64"
      ]
     },
     "execution_count": 49,
     "metadata": {},
     "output_type": "execute_result"
    }
   ],
   "source": [
    "my_df.isna().sum()"
   ]
  },
  {
   "cell_type": "code",
   "execution_count": 50,
   "id": "15609500",
   "metadata": {},
   "outputs": [
    {
     "data": {
      "text/html": [
       "<div>\n",
       "<style scoped>\n",
       "    .dataframe tbody tr th:only-of-type {\n",
       "        vertical-align: middle;\n",
       "    }\n",
       "\n",
       "    .dataframe tbody tr th {\n",
       "        vertical-align: top;\n",
       "    }\n",
       "\n",
       "    .dataframe thead th {\n",
       "        text-align: right;\n",
       "    }\n",
       "</style>\n",
       "<table border=\"1\" class=\"dataframe\">\n",
       "  <thead>\n",
       "    <tr style=\"text-align: right;\">\n",
       "      <th></th>\n",
       "      <th>MOVIES</th>\n",
       "      <th>GENRE</th>\n",
       "      <th>RATING</th>\n",
       "      <th>ONE-LINE</th>\n",
       "      <th>STARS</th>\n",
       "      <th>VOTES</th>\n",
       "      <th>RunTime</th>\n",
       "      <th>START YEAR</th>\n",
       "    </tr>\n",
       "  </thead>\n",
       "  <tbody>\n",
       "    <tr>\n",
       "      <th>0</th>\n",
       "      <td>13 Reasons Why</td>\n",
       "      <td>\\nDrama, Mystery, Thriller</td>\n",
       "      <td>5.1</td>\n",
       "      <td>\\nClay is forced to confront his anxiety on th...</td>\n",
       "      <td>\\n    Director:\\nMichael Sucsy\\n| \\n    Stars:...</td>\n",
       "      <td>1714</td>\n",
       "      <td>59.0</td>\n",
       "      <td>2017</td>\n",
       "    </tr>\n",
       "    <tr>\n",
       "      <th>1</th>\n",
       "      <td>1899</td>\n",
       "      <td>\\nDrama, History, Horror</td>\n",
       "      <td>6.8</td>\n",
       "      <td>\\nAdd a Plot\\n</td>\n",
       "      <td>\\n    Director:\\nBaran bo Odar\\n</td>\n",
       "      <td>20750</td>\n",
       "      <td>40.5</td>\n",
       "      <td>2022</td>\n",
       "    </tr>\n",
       "    <tr>\n",
       "      <th>2</th>\n",
       "      <td>3Below: Tales of Arcadia</td>\n",
       "      <td>\\nAnimation, Action, Adventure</td>\n",
       "      <td>8.6</td>\n",
       "      <td>\\nAfter learning the location of Gaylen's Core...</td>\n",
       "      <td>\\n    Director:\\nAndrew L. Schmidt\\n| \\n    St...</td>\n",
       "      <td>138</td>\n",
       "      <td>22.0</td>\n",
       "      <td>2018</td>\n",
       "    </tr>\n",
       "    <tr>\n",
       "      <th>3</th>\n",
       "      <td>50M2</td>\n",
       "      <td>\\nComedy, Drama, Thriller</td>\n",
       "      <td>7.5</td>\n",
       "      <td>\\nMuhtar and Dilara face the risk of losing th...</td>\n",
       "      <td>\\n    Director:\\nBurak Aksak\\n| \\n    Stars:\\n...</td>\n",
       "      <td>111</td>\n",
       "      <td>47.0</td>\n",
       "      <td>2021</td>\n",
       "    </tr>\n",
       "    <tr>\n",
       "      <th>4</th>\n",
       "      <td>7Seeds</td>\n",
       "      <td>\\nAnimation, Action, Adventure</td>\n",
       "      <td>7.7</td>\n",
       "      <td>\\nRyo orders Hana to join him in searching for...</td>\n",
       "      <td>\\n            \\n    Stars:\\nAmber Lee Connors,...</td>\n",
       "      <td>39</td>\n",
       "      <td>26.0</td>\n",
       "      <td>2019</td>\n",
       "    </tr>\n",
       "    <tr>\n",
       "      <th>...</th>\n",
       "      <td>...</td>\n",
       "      <td>...</td>\n",
       "      <td>...</td>\n",
       "      <td>...</td>\n",
       "      <td>...</td>\n",
       "      <td>...</td>\n",
       "      <td>...</td>\n",
       "      <td>...</td>\n",
       "    </tr>\n",
       "    <tr>\n",
       "      <th>6812</th>\n",
       "      <td>Ófærð</td>\n",
       "      <td>\\nCrime, Drama, Mystery</td>\n",
       "      <td>8.1</td>\n",
       "      <td>\\nIn a remote town in Iceland, Police desperat...</td>\n",
       "      <td>\\n            \\n    Stars:\\nÓlafur Darri Ólafs...</td>\n",
       "      <td>17309</td>\n",
       "      <td>60.0</td>\n",
       "      <td>2015</td>\n",
       "    </tr>\n",
       "    <tr>\n",
       "      <th>6813</th>\n",
       "      <td>Órbita 9</td>\n",
       "      <td>\\nDrama, Romance, Sci-Fi</td>\n",
       "      <td>5.9</td>\n",
       "      <td>\\nHelena is a young girl who spent all her lif...</td>\n",
       "      <td>\\n    Director:\\nHatem Khraiche\\n| \\n    Stars...</td>\n",
       "      <td>7123</td>\n",
       "      <td>95.0</td>\n",
       "      <td>2017</td>\n",
       "    </tr>\n",
       "    <tr>\n",
       "      <th>6814</th>\n",
       "      <td>Ôkami to kôshinryô</td>\n",
       "      <td>\\nAnimation, Adventure, Fantasy</td>\n",
       "      <td>8.0</td>\n",
       "      <td>\\nKraft Lawrence goes from town to town to mak...</td>\n",
       "      <td>\\n            \\n    Stars:\\nJun Fukuyama, \\nAm...</td>\n",
       "      <td>3959</td>\n",
       "      <td>24.0</td>\n",
       "      <td>2008</td>\n",
       "    </tr>\n",
       "    <tr>\n",
       "      <th>6815</th>\n",
       "      <td>Öldür Beni Sevgilim</td>\n",
       "      <td>\\nComedy, Romance</td>\n",
       "      <td>4.4</td>\n",
       "      <td>\\nCan the excitement of the national lottery s...</td>\n",
       "      <td>\\n    Director:\\nSenol Sönmez\\n| \\n    Stars:\\...</td>\n",
       "      <td>1568</td>\n",
       "      <td>104.0</td>\n",
       "      <td>2019</td>\n",
       "    </tr>\n",
       "    <tr>\n",
       "      <th>6816</th>\n",
       "      <td>ÜberWeihnachten</td>\n",
       "      <td>\\nComedy, Drama, Romance</td>\n",
       "      <td>6.7</td>\n",
       "      <td>\\nBastian returns home for the holidays to lea...</td>\n",
       "      <td>\\n            \\n    Stars:\\nLuke Mockridge, \\n...</td>\n",
       "      <td>1700</td>\n",
       "      <td>48.0</td>\n",
       "      <td>2020</td>\n",
       "    </tr>\n",
       "  </tbody>\n",
       "</table>\n",
       "<p>6817 rows × 8 columns</p>\n",
       "</div>"
      ],
      "text/plain": [
       "                         MOVIES                                        GENRE  \\\n",
       "0                13 Reasons Why       \\nDrama, Mystery, Thriller               \n",
       "1                          1899         \\nDrama, History, Horror               \n",
       "2      3Below: Tales of Arcadia   \\nAnimation, Action, Adventure               \n",
       "3                          50M2        \\nComedy, Drama, Thriller               \n",
       "4                        7Seeds   \\nAnimation, Action, Adventure               \n",
       "...                         ...                                          ...   \n",
       "6812                      Ófærð          \\nCrime, Drama, Mystery               \n",
       "6813                   Órbita 9         \\nDrama, Romance, Sci-Fi               \n",
       "6814         Ôkami to kôshinryô  \\nAnimation, Adventure, Fantasy               \n",
       "6815        Öldür Beni Sevgilim                \\nComedy, Romance               \n",
       "6816            ÜberWeihnachten         \\nComedy, Drama, Romance               \n",
       "\n",
       "      RATING                                           ONE-LINE  \\\n",
       "0        5.1  \\nClay is forced to confront his anxiety on th...   \n",
       "1        6.8                                     \\nAdd a Plot\\n   \n",
       "2        8.6  \\nAfter learning the location of Gaylen's Core...   \n",
       "3        7.5  \\nMuhtar and Dilara face the risk of losing th...   \n",
       "4        7.7  \\nRyo orders Hana to join him in searching for...   \n",
       "...      ...                                                ...   \n",
       "6812     8.1  \\nIn a remote town in Iceland, Police desperat...   \n",
       "6813     5.9  \\nHelena is a young girl who spent all her lif...   \n",
       "6814     8.0  \\nKraft Lawrence goes from town to town to mak...   \n",
       "6815     4.4  \\nCan the excitement of the national lottery s...   \n",
       "6816     6.7  \\nBastian returns home for the holidays to lea...   \n",
       "\n",
       "                                                  STARS  VOTES  RunTime  \\\n",
       "0     \\n    Director:\\nMichael Sucsy\\n| \\n    Stars:...   1714     59.0   \n",
       "1                      \\n    Director:\\nBaran bo Odar\\n  20750     40.5   \n",
       "2     \\n    Director:\\nAndrew L. Schmidt\\n| \\n    St...    138     22.0   \n",
       "3     \\n    Director:\\nBurak Aksak\\n| \\n    Stars:\\n...    111     47.0   \n",
       "4     \\n            \\n    Stars:\\nAmber Lee Connors,...     39     26.0   \n",
       "...                                                 ...    ...      ...   \n",
       "6812  \\n            \\n    Stars:\\nÓlafur Darri Ólafs...  17309     60.0   \n",
       "6813  \\n    Director:\\nHatem Khraiche\\n| \\n    Stars...   7123     95.0   \n",
       "6814  \\n            \\n    Stars:\\nJun Fukuyama, \\nAm...   3959     24.0   \n",
       "6815  \\n    Director:\\nSenol Sönmez\\n| \\n    Stars:\\...   1568    104.0   \n",
       "6816  \\n            \\n    Stars:\\nLuke Mockridge, \\n...   1700     48.0   \n",
       "\n",
       "      START YEAR  \n",
       "0           2017  \n",
       "1           2022  \n",
       "2           2018  \n",
       "3           2021  \n",
       "4           2019  \n",
       "...          ...  \n",
       "6812        2015  \n",
       "6813        2017  \n",
       "6814        2008  \n",
       "6815        2019  \n",
       "6816        2020  \n",
       "\n",
       "[6817 rows x 8 columns]"
      ]
     },
     "execution_count": 50,
     "metadata": {},
     "output_type": "execute_result"
    }
   ],
   "source": [
    "my_df"
   ]
  },
  {
   "cell_type": "markdown",
   "id": "5650095f",
   "metadata": {},
   "source": [
    "###### Remove the unwanted character on the GENRE and ONE-LINE,"
   ]
  },
  {
   "cell_type": "code",
   "execution_count": 52,
   "id": "a9a625f7",
   "metadata": {},
   "outputs": [],
   "source": [
    "#Remove the inconsistencies with the GENRE column\n",
    "my_df[\"GENRE\"] = my_df[\"GENRE\"].str.replace(\"\\n\", \"\")"
   ]
  },
  {
   "cell_type": "code",
   "execution_count": 53,
   "id": "69c70916",
   "metadata": {},
   "outputs": [],
   "source": [
    "my_df[\"GENRE\"] = my_df[\"GENRE\"].str.replace(\"            \", \"\")"
   ]
  },
  {
   "cell_type": "code",
   "execution_count": 54,
   "id": "9debe4c9",
   "metadata": {},
   "outputs": [],
   "source": [
    "#Remove the inconsistency for the ONE-LINE column\n",
    "my_df[\"ONE-LINE\"] = my_df[\"ONE-LINE\"].str.strip()"
   ]
  },
  {
   "cell_type": "markdown",
   "id": "a0bc09af",
   "metadata": {},
   "source": [
    "###### Noticed some irregularities within the movies column, so had to replace"
   ]
  },
  {
   "cell_type": "code",
   "execution_count": 56,
   "id": "4669c1fb",
   "metadata": {},
   "outputs": [],
   "source": [
    "my_df[\"MOVIES\"] = my_df[\"MOVIES\"].str.replace(\"#\", \"\")"
   ]
  },
  {
   "cell_type": "markdown",
   "id": "433df3dd",
   "metadata": {},
   "source": [
    "###### Split the STARS into STARS and DIRECTOR(s) column by the first occurrence of star. \n",
    "* Remove the unwanted characters from both columns\n",
    "* Fill the empty cells on the DIRECTOR(s) column with \"No Director Name\""
   ]
  },
  {
   "cell_type": "code",
   "execution_count": 58,
   "id": "f4e3bf8d",
   "metadata": {},
   "outputs": [],
   "source": [
    "my_df[\"STARS\"] = my_df[\"STARS\"].str.replace(\"\\n\", \"\").str.replace(\"|\", \"\")"
   ]
  },
  {
   "cell_type": "code",
   "execution_count": 59,
   "id": "87f1f0bf",
   "metadata": {},
   "outputs": [],
   "source": [
    "#Now split the STARS column by using the first occurence of \"Star\" as the delimiter\n",
    "my_df[[\"DIRECTOR(s)\", \"STARS\"]] = my_df[\"STARS\"].str.split(\"Star\", 1, expand = True)"
   ]
  },
  {
   "cell_type": "code",
   "execution_count": 60,
   "id": "c6e6bfb1",
   "metadata": {},
   "outputs": [],
   "source": [
    "#Edit the STARS and DIRECTORS columns\n",
    "my_df[\"STARS\"] = my_df[\"STARS\"].str.replace(\"s:\", \"\").str.replace(\":\", \"\")\n",
    "my_df[\"STARS\"] = my_df[\"STARS\"].fillna(\"Star name(s) not given\")\n",
    "my_df[\"DIRECTOR(s)\"] = my_df[\"DIRECTOR(s)\"].str.replace(\"Director:\", \"\").str.replace(\"Directors:\", \"\")\n",
    "my_df[\"DIRECTOR(s)\"] = my_df[\"DIRECTOR(s)\"].str.replace(\"                \", \"No Director Name\")\n",
    "my_df[\"DIRECTOR(s)\"] = my_df[\"DIRECTOR(s)\"].replace('', 'No Director Name')"
   ]
  },
  {
   "cell_type": "markdown",
   "id": "3077267d",
   "metadata": {},
   "source": [
    "###### Convert the START YEAR column to datetime, then to period format to display just the year"
   ]
  },
  {
   "cell_type": "code",
   "execution_count": 62,
   "id": "5b97b0e7",
   "metadata": {},
   "outputs": [],
   "source": [
    "#Convert the Start year column to datetime\n",
    "my_df['START YEAR'] = pd.to_datetime(my_df['START YEAR'], format='%Y')"
   ]
  },
  {
   "cell_type": "code",
   "execution_count": 63,
   "id": "c71d841a",
   "metadata": {},
   "outputs": [],
   "source": [
    "#Set a customized view of the dataframe to always display only the year\n",
    "pd.options.display.date_yearfirst = True\n",
    "my_df['START YEAR'] = my_df['START YEAR'].dt.to_period('Y')"
   ]
  },
  {
   "cell_type": "code",
   "execution_count": 64,
   "id": "a6d6681d",
   "metadata": {},
   "outputs": [],
   "source": [
    "#Rename the run time column for clarity sake\n",
    "my_df = my_df.rename(columns = {\"RunTime\" : \"RunTime(mins)\"})"
   ]
  },
  {
   "cell_type": "code",
   "execution_count": 65,
   "id": "7c3da60e",
   "metadata": {},
   "outputs": [
    {
     "data": {
      "text/html": [
       "<div>\n",
       "<style scoped>\n",
       "    .dataframe tbody tr th:only-of-type {\n",
       "        vertical-align: middle;\n",
       "    }\n",
       "\n",
       "    .dataframe tbody tr th {\n",
       "        vertical-align: top;\n",
       "    }\n",
       "\n",
       "    .dataframe thead th {\n",
       "        text-align: right;\n",
       "    }\n",
       "</style>\n",
       "<table border=\"1\" class=\"dataframe\">\n",
       "  <thead>\n",
       "    <tr style=\"text-align: right;\">\n",
       "      <th></th>\n",
       "      <th>MOVIES</th>\n",
       "      <th>GENRE</th>\n",
       "      <th>RATING</th>\n",
       "      <th>ONE-LINE</th>\n",
       "      <th>STARS</th>\n",
       "      <th>VOTES</th>\n",
       "      <th>RunTime(mins)</th>\n",
       "      <th>START YEAR</th>\n",
       "      <th>DIRECTOR(s)</th>\n",
       "    </tr>\n",
       "  </thead>\n",
       "  <tbody>\n",
       "    <tr>\n",
       "      <th>0</th>\n",
       "      <td>13 Reasons Why</td>\n",
       "      <td>Drama, Mystery, Thriller</td>\n",
       "      <td>5.1</td>\n",
       "      <td>Clay is forced to confront his anxiety on the ...</td>\n",
       "      <td>Dylan Minnette, Grace Saif, Christian Navarro,...</td>\n",
       "      <td>1714</td>\n",
       "      <td>59.0</td>\n",
       "      <td>2017</td>\n",
       "      <td>Michael Sucsy</td>\n",
       "    </tr>\n",
       "    <tr>\n",
       "      <th>1</th>\n",
       "      <td>1899</td>\n",
       "      <td>Drama, History, Horror</td>\n",
       "      <td>6.8</td>\n",
       "      <td>Add a Plot</td>\n",
       "      <td>Star name(s) not given</td>\n",
       "      <td>20750</td>\n",
       "      <td>40.5</td>\n",
       "      <td>2022</td>\n",
       "      <td>Baran bo Odar</td>\n",
       "    </tr>\n",
       "    <tr>\n",
       "      <th>2</th>\n",
       "      <td>3Below: Tales of Arcadia</td>\n",
       "      <td>Animation, Action, Adventure</td>\n",
       "      <td>8.6</td>\n",
       "      <td>After learning the location of Gaylen's Core, ...</td>\n",
       "      <td>Tatiana Maslany, Diego Luna, Nick Offerman, Al...</td>\n",
       "      <td>138</td>\n",
       "      <td>22.0</td>\n",
       "      <td>2018</td>\n",
       "      <td>Andrew L. Schmidt</td>\n",
       "    </tr>\n",
       "    <tr>\n",
       "      <th>3</th>\n",
       "      <td>50M2</td>\n",
       "      <td>Comedy, Drama, Thriller</td>\n",
       "      <td>7.5</td>\n",
       "      <td>Muhtar and Dilara face the risk of losing thei...</td>\n",
       "      <td>Engin Öztürk, Kürsat Alniaçik, Cengiz Bozkurt,...</td>\n",
       "      <td>111</td>\n",
       "      <td>47.0</td>\n",
       "      <td>2021</td>\n",
       "      <td>Burak Aksak</td>\n",
       "    </tr>\n",
       "    <tr>\n",
       "      <th>4</th>\n",
       "      <td>7Seeds</td>\n",
       "      <td>Animation, Action, Adventure</td>\n",
       "      <td>7.7</td>\n",
       "      <td>Ryo orders Hana to join him in searching for a...</td>\n",
       "      <td>Amber Lee Connors, Justin Doran, Patricia Dura...</td>\n",
       "      <td>39</td>\n",
       "      <td>26.0</td>\n",
       "      <td>2019</td>\n",
       "      <td>No Director Name</td>\n",
       "    </tr>\n",
       "    <tr>\n",
       "      <th>...</th>\n",
       "      <td>...</td>\n",
       "      <td>...</td>\n",
       "      <td>...</td>\n",
       "      <td>...</td>\n",
       "      <td>...</td>\n",
       "      <td>...</td>\n",
       "      <td>...</td>\n",
       "      <td>...</td>\n",
       "      <td>...</td>\n",
       "    </tr>\n",
       "    <tr>\n",
       "      <th>6812</th>\n",
       "      <td>Ófærð</td>\n",
       "      <td>Crime, Drama, Mystery</td>\n",
       "      <td>8.1</td>\n",
       "      <td>In a remote town in Iceland, Police desperatel...</td>\n",
       "      <td>Ólafur Darri Ólafsson, Ilmur Kristjánsdóttir, ...</td>\n",
       "      <td>17309</td>\n",
       "      <td>60.0</td>\n",
       "      <td>2015</td>\n",
       "      <td>No Director Name</td>\n",
       "    </tr>\n",
       "    <tr>\n",
       "      <th>6813</th>\n",
       "      <td>Órbita 9</td>\n",
       "      <td>Drama, Romance, Sci-Fi</td>\n",
       "      <td>5.9</td>\n",
       "      <td>Helena is a young girl who spent all her life ...</td>\n",
       "      <td>Clara Lago, Álex González, Andrés Parra, Belén...</td>\n",
       "      <td>7123</td>\n",
       "      <td>95.0</td>\n",
       "      <td>2017</td>\n",
       "      <td>Hatem Khraiche</td>\n",
       "    </tr>\n",
       "    <tr>\n",
       "      <th>6814</th>\n",
       "      <td>Ôkami to kôshinryô</td>\n",
       "      <td>Animation, Adventure, Fantasy</td>\n",
       "      <td>8.0</td>\n",
       "      <td>Kraft Lawrence goes from town to town to make ...</td>\n",
       "      <td>Jun Fukuyama, Ami Koshimizu, Brina Palencia, J...</td>\n",
       "      <td>3959</td>\n",
       "      <td>24.0</td>\n",
       "      <td>2008</td>\n",
       "      <td>No Director Name</td>\n",
       "    </tr>\n",
       "    <tr>\n",
       "      <th>6815</th>\n",
       "      <td>Öldür Beni Sevgilim</td>\n",
       "      <td>Comedy, Romance</td>\n",
       "      <td>4.4</td>\n",
       "      <td>Can the excitement of the national lottery sav...</td>\n",
       "      <td>Murat Boz, Seda Bakan, Açelya Topaloglu, Özgür...</td>\n",
       "      <td>1568</td>\n",
       "      <td>104.0</td>\n",
       "      <td>2019</td>\n",
       "      <td>Senol Sönmez</td>\n",
       "    </tr>\n",
       "    <tr>\n",
       "      <th>6816</th>\n",
       "      <td>ÜberWeihnachten</td>\n",
       "      <td>Comedy, Drama, Romance</td>\n",
       "      <td>6.7</td>\n",
       "      <td>Bastian returns home for the holidays to learn...</td>\n",
       "      <td>Luke Mockridge, Seyneb Saleh, Cristina do Rego...</td>\n",
       "      <td>1700</td>\n",
       "      <td>48.0</td>\n",
       "      <td>2020</td>\n",
       "      <td>No Director Name</td>\n",
       "    </tr>\n",
       "  </tbody>\n",
       "</table>\n",
       "<p>6817 rows × 9 columns</p>\n",
       "</div>"
      ],
      "text/plain": [
       "                         MOVIES                          GENRE  RATING  \\\n",
       "0                13 Reasons Why       Drama, Mystery, Thriller     5.1   \n",
       "1                          1899         Drama, History, Horror     6.8   \n",
       "2      3Below: Tales of Arcadia   Animation, Action, Adventure     8.6   \n",
       "3                          50M2        Comedy, Drama, Thriller     7.5   \n",
       "4                        7Seeds   Animation, Action, Adventure     7.7   \n",
       "...                         ...                            ...     ...   \n",
       "6812                      Ófærð          Crime, Drama, Mystery     8.1   \n",
       "6813                   Órbita 9         Drama, Romance, Sci-Fi     5.9   \n",
       "6814         Ôkami to kôshinryô  Animation, Adventure, Fantasy     8.0   \n",
       "6815        Öldür Beni Sevgilim                Comedy, Romance     4.4   \n",
       "6816            ÜberWeihnachten         Comedy, Drama, Romance     6.7   \n",
       "\n",
       "                                               ONE-LINE  \\\n",
       "0     Clay is forced to confront his anxiety on the ...   \n",
       "1                                            Add a Plot   \n",
       "2     After learning the location of Gaylen's Core, ...   \n",
       "3     Muhtar and Dilara face the risk of losing thei...   \n",
       "4     Ryo orders Hana to join him in searching for a...   \n",
       "...                                                 ...   \n",
       "6812  In a remote town in Iceland, Police desperatel...   \n",
       "6813  Helena is a young girl who spent all her life ...   \n",
       "6814  Kraft Lawrence goes from town to town to make ...   \n",
       "6815  Can the excitement of the national lottery sav...   \n",
       "6816  Bastian returns home for the holidays to learn...   \n",
       "\n",
       "                                                  STARS  VOTES  RunTime(mins)  \\\n",
       "0     Dylan Minnette, Grace Saif, Christian Navarro,...   1714           59.0   \n",
       "1                                Star name(s) not given  20750           40.5   \n",
       "2     Tatiana Maslany, Diego Luna, Nick Offerman, Al...    138           22.0   \n",
       "3     Engin Öztürk, Kürsat Alniaçik, Cengiz Bozkurt,...    111           47.0   \n",
       "4     Amber Lee Connors, Justin Doran, Patricia Dura...     39           26.0   \n",
       "...                                                 ...    ...            ...   \n",
       "6812  Ólafur Darri Ólafsson, Ilmur Kristjánsdóttir, ...  17309           60.0   \n",
       "6813  Clara Lago, Álex González, Andrés Parra, Belén...   7123           95.0   \n",
       "6814  Jun Fukuyama, Ami Koshimizu, Brina Palencia, J...   3959           24.0   \n",
       "6815  Murat Boz, Seda Bakan, Açelya Topaloglu, Özgür...   1568          104.0   \n",
       "6816  Luke Mockridge, Seyneb Saleh, Cristina do Rego...   1700           48.0   \n",
       "\n",
       "     START YEAR                 DIRECTOR(s)  \n",
       "0          2017          Michael Sucsy       \n",
       "1          2022               Baran bo Odar  \n",
       "2          2018      Andrew L. Schmidt       \n",
       "3          2021            Burak Aksak       \n",
       "4          2019            No Director Name  \n",
       "...         ...                         ...  \n",
       "6812       2015            No Director Name  \n",
       "6813       2017         Hatem Khraiche       \n",
       "6814       2008            No Director Name  \n",
       "6815       2019           Senol Sönmez       \n",
       "6816       2020            No Director Name  \n",
       "\n",
       "[6817 rows x 9 columns]"
      ]
     },
     "execution_count": 65,
     "metadata": {},
     "output_type": "execute_result"
    }
   ],
   "source": [
    "my_df"
   ]
  },
  {
   "cell_type": "markdown",
   "id": "a6bd0e03",
   "metadata": {},
   "source": [
    "###### Now arrange the dataframe to make it more orderly and insightful"
   ]
  },
  {
   "cell_type": "code",
   "execution_count": 67,
   "id": "74baddfd",
   "metadata": {},
   "outputs": [],
   "source": [
    "#Now arrange the dataframe to make it more insightful\n",
    "my_df = my_df[['MOVIES', 'START YEAR', 'GENRE', 'ONE-LINE', 'DIRECTOR(s)', 'STARS', 'VOTES', 'RATING', 'RunTime(mins)',]]"
   ]
  },
  {
   "cell_type": "code",
   "execution_count": 68,
   "id": "ad673056",
   "metadata": {},
   "outputs": [],
   "source": [
    "#Make a copy of the cleaned df\n",
    "df = my_df.copy()"
   ]
  },
  {
   "cell_type": "markdown",
   "id": "6517fbc0",
   "metadata": {},
   "source": [
    "###### Drop the columns that are not needed for the Data analysis"
   ]
  },
  {
   "cell_type": "code",
   "execution_count": 70,
   "id": "096254da",
   "metadata": {},
   "outputs": [
    {
     "data": {
      "text/html": [
       "<div>\n",
       "<style scoped>\n",
       "    .dataframe tbody tr th:only-of-type {\n",
       "        vertical-align: middle;\n",
       "    }\n",
       "\n",
       "    .dataframe tbody tr th {\n",
       "        vertical-align: top;\n",
       "    }\n",
       "\n",
       "    .dataframe thead th {\n",
       "        text-align: right;\n",
       "    }\n",
       "</style>\n",
       "<table border=\"1\" class=\"dataframe\">\n",
       "  <thead>\n",
       "    <tr style=\"text-align: right;\">\n",
       "      <th></th>\n",
       "      <th>MOVIES</th>\n",
       "      <th>START YEAR</th>\n",
       "      <th>GENRE</th>\n",
       "      <th>VOTES</th>\n",
       "      <th>RATING</th>\n",
       "      <th>RunTime(mins)</th>\n",
       "    </tr>\n",
       "  </thead>\n",
       "  <tbody>\n",
       "    <tr>\n",
       "      <th>0</th>\n",
       "      <td>13 Reasons Why</td>\n",
       "      <td>2017</td>\n",
       "      <td>Drama, Mystery, Thriller</td>\n",
       "      <td>1714</td>\n",
       "      <td>5.1</td>\n",
       "      <td>59.0</td>\n",
       "    </tr>\n",
       "    <tr>\n",
       "      <th>1</th>\n",
       "      <td>1899</td>\n",
       "      <td>2022</td>\n",
       "      <td>Drama, History, Horror</td>\n",
       "      <td>20750</td>\n",
       "      <td>6.8</td>\n",
       "      <td>40.5</td>\n",
       "    </tr>\n",
       "    <tr>\n",
       "      <th>2</th>\n",
       "      <td>3Below: Tales of Arcadia</td>\n",
       "      <td>2018</td>\n",
       "      <td>Animation, Action, Adventure</td>\n",
       "      <td>138</td>\n",
       "      <td>8.6</td>\n",
       "      <td>22.0</td>\n",
       "    </tr>\n",
       "    <tr>\n",
       "      <th>3</th>\n",
       "      <td>50M2</td>\n",
       "      <td>2021</td>\n",
       "      <td>Comedy, Drama, Thriller</td>\n",
       "      <td>111</td>\n",
       "      <td>7.5</td>\n",
       "      <td>47.0</td>\n",
       "    </tr>\n",
       "    <tr>\n",
       "      <th>4</th>\n",
       "      <td>7Seeds</td>\n",
       "      <td>2019</td>\n",
       "      <td>Animation, Action, Adventure</td>\n",
       "      <td>39</td>\n",
       "      <td>7.7</td>\n",
       "      <td>26.0</td>\n",
       "    </tr>\n",
       "    <tr>\n",
       "      <th>...</th>\n",
       "      <td>...</td>\n",
       "      <td>...</td>\n",
       "      <td>...</td>\n",
       "      <td>...</td>\n",
       "      <td>...</td>\n",
       "      <td>...</td>\n",
       "    </tr>\n",
       "    <tr>\n",
       "      <th>6812</th>\n",
       "      <td>Ófærð</td>\n",
       "      <td>2015</td>\n",
       "      <td>Crime, Drama, Mystery</td>\n",
       "      <td>17309</td>\n",
       "      <td>8.1</td>\n",
       "      <td>60.0</td>\n",
       "    </tr>\n",
       "    <tr>\n",
       "      <th>6813</th>\n",
       "      <td>Órbita 9</td>\n",
       "      <td>2017</td>\n",
       "      <td>Drama, Romance, Sci-Fi</td>\n",
       "      <td>7123</td>\n",
       "      <td>5.9</td>\n",
       "      <td>95.0</td>\n",
       "    </tr>\n",
       "    <tr>\n",
       "      <th>6814</th>\n",
       "      <td>Ôkami to kôshinryô</td>\n",
       "      <td>2008</td>\n",
       "      <td>Animation, Adventure, Fantasy</td>\n",
       "      <td>3959</td>\n",
       "      <td>8.0</td>\n",
       "      <td>24.0</td>\n",
       "    </tr>\n",
       "    <tr>\n",
       "      <th>6815</th>\n",
       "      <td>Öldür Beni Sevgilim</td>\n",
       "      <td>2019</td>\n",
       "      <td>Comedy, Romance</td>\n",
       "      <td>1568</td>\n",
       "      <td>4.4</td>\n",
       "      <td>104.0</td>\n",
       "    </tr>\n",
       "    <tr>\n",
       "      <th>6816</th>\n",
       "      <td>ÜberWeihnachten</td>\n",
       "      <td>2020</td>\n",
       "      <td>Comedy, Drama, Romance</td>\n",
       "      <td>1700</td>\n",
       "      <td>6.7</td>\n",
       "      <td>48.0</td>\n",
       "    </tr>\n",
       "  </tbody>\n",
       "</table>\n",
       "<p>6817 rows × 6 columns</p>\n",
       "</div>"
      ],
      "text/plain": [
       "                         MOVIES START YEAR                          GENRE  \\\n",
       "0                13 Reasons Why       2017       Drama, Mystery, Thriller   \n",
       "1                          1899       2022         Drama, History, Horror   \n",
       "2      3Below: Tales of Arcadia       2018   Animation, Action, Adventure   \n",
       "3                          50M2       2021        Comedy, Drama, Thriller   \n",
       "4                        7Seeds       2019   Animation, Action, Adventure   \n",
       "...                         ...        ...                            ...   \n",
       "6812                      Ófærð       2015          Crime, Drama, Mystery   \n",
       "6813                   Órbita 9       2017         Drama, Romance, Sci-Fi   \n",
       "6814         Ôkami to kôshinryô       2008  Animation, Adventure, Fantasy   \n",
       "6815        Öldür Beni Sevgilim       2019                Comedy, Romance   \n",
       "6816            ÜberWeihnachten       2020         Comedy, Drama, Romance   \n",
       "\n",
       "      VOTES  RATING  RunTime(mins)  \n",
       "0      1714     5.1           59.0  \n",
       "1     20750     6.8           40.5  \n",
       "2       138     8.6           22.0  \n",
       "3       111     7.5           47.0  \n",
       "4        39     7.7           26.0  \n",
       "...     ...     ...            ...  \n",
       "6812  17309     8.1           60.0  \n",
       "6813   7123     5.9           95.0  \n",
       "6814   3959     8.0           24.0  \n",
       "6815   1568     4.4          104.0  \n",
       "6816   1700     6.7           48.0  \n",
       "\n",
       "[6817 rows x 6 columns]"
      ]
     },
     "execution_count": 70,
     "metadata": {},
     "output_type": "execute_result"
    }
   ],
   "source": [
    "df = df.drop(columns=['ONE-LINE', 'DIRECTOR(s)', 'STARS'])\n",
    "df"
   ]
  },
  {
   "cell_type": "markdown",
   "id": "97906659",
   "metadata": {},
   "source": [
    "###### View the info of the dataframe to confirm cleaning"
   ]
  },
  {
   "cell_type": "code",
   "execution_count": 72,
   "id": "920fc1c7",
   "metadata": {},
   "outputs": [
    {
     "name": "stdout",
     "output_type": "stream",
     "text": [
      "<class 'pandas.core.frame.DataFrame'>\n",
      "RangeIndex: 6817 entries, 0 to 6816\n",
      "Data columns (total 9 columns):\n",
      " #   Column         Non-Null Count  Dtype        \n",
      "---  ------         --------------  -----        \n",
      " 0   MOVIES         6817 non-null   object       \n",
      " 1   START YEAR     6817 non-null   period[A-DEC]\n",
      " 2   GENRE          6817 non-null   object       \n",
      " 3   ONE-LINE       6817 non-null   object       \n",
      " 4   DIRECTOR(s)    6817 non-null   object       \n",
      " 5   STARS          6817 non-null   object       \n",
      " 6   VOTES          6817 non-null   int32        \n",
      " 7   RATING         6817 non-null   float64      \n",
      " 8   RunTime(mins)  6817 non-null   float64      \n",
      "dtypes: float64(2), int32(1), object(5), period[A-DEC](1)\n",
      "memory usage: 452.8+ KB\n"
     ]
    }
   ],
   "source": [
    "my_df.info()"
   ]
  },
  {
   "cell_type": "code",
   "execution_count": 73,
   "id": "3b2a6e64",
   "metadata": {},
   "outputs": [],
   "source": [
    "#Now save the cleaned dataframe as a csv file\n",
    "my_df.to_csv('cleaned_movies.csv', index = False)"
   ]
  },
  {
   "cell_type": "code",
   "execution_count": 74,
   "id": "77969641",
   "metadata": {},
   "outputs": [],
   "source": [
    "#Save the trimmed dataframe as well\n",
    "df.to_csv('movies_data.csv', index = False)"
   ]
  },
  {
   "cell_type": "markdown",
   "id": "0cf59e46",
   "metadata": {},
   "source": [
    "#### EXPLORATORY DATA ANALYSIS (EDA) WITH PYTHON"
   ]
  },
  {
   "cell_type": "code",
   "execution_count": 76,
   "id": "fb978437",
   "metadata": {},
   "outputs": [
    {
     "data": {
      "text/html": [
       "<div>\n",
       "<style scoped>\n",
       "    .dataframe tbody tr th:only-of-type {\n",
       "        vertical-align: middle;\n",
       "    }\n",
       "\n",
       "    .dataframe tbody tr th {\n",
       "        vertical-align: top;\n",
       "    }\n",
       "\n",
       "    .dataframe thead th {\n",
       "        text-align: right;\n",
       "    }\n",
       "</style>\n",
       "<table border=\"1\" class=\"dataframe\">\n",
       "  <thead>\n",
       "    <tr style=\"text-align: right;\">\n",
       "      <th></th>\n",
       "      <th>MOVIES</th>\n",
       "      <th>START YEAR</th>\n",
       "      <th>GENRE</th>\n",
       "      <th>VOTES</th>\n",
       "      <th>RATING</th>\n",
       "      <th>RunTime(mins)</th>\n",
       "    </tr>\n",
       "  </thead>\n",
       "  <tbody>\n",
       "    <tr>\n",
       "      <th>0</th>\n",
       "      <td>13 Reasons Why</td>\n",
       "      <td>2017</td>\n",
       "      <td>Drama, Mystery, Thriller</td>\n",
       "      <td>1714</td>\n",
       "      <td>5.1</td>\n",
       "      <td>59.0</td>\n",
       "    </tr>\n",
       "    <tr>\n",
       "      <th>1</th>\n",
       "      <td>1899</td>\n",
       "      <td>2022</td>\n",
       "      <td>Drama, History, Horror</td>\n",
       "      <td>20750</td>\n",
       "      <td>6.8</td>\n",
       "      <td>40.5</td>\n",
       "    </tr>\n",
       "    <tr>\n",
       "      <th>2</th>\n",
       "      <td>3Below: Tales of Arcadia</td>\n",
       "      <td>2018</td>\n",
       "      <td>Animation, Action, Adventure</td>\n",
       "      <td>138</td>\n",
       "      <td>8.6</td>\n",
       "      <td>22.0</td>\n",
       "    </tr>\n",
       "    <tr>\n",
       "      <th>3</th>\n",
       "      <td>50M2</td>\n",
       "      <td>2021</td>\n",
       "      <td>Comedy, Drama, Thriller</td>\n",
       "      <td>111</td>\n",
       "      <td>7.5</td>\n",
       "      <td>47.0</td>\n",
       "    </tr>\n",
       "    <tr>\n",
       "      <th>4</th>\n",
       "      <td>7Seeds</td>\n",
       "      <td>2019</td>\n",
       "      <td>Animation, Action, Adventure</td>\n",
       "      <td>39</td>\n",
       "      <td>7.7</td>\n",
       "      <td>26.0</td>\n",
       "    </tr>\n",
       "    <tr>\n",
       "      <th>...</th>\n",
       "      <td>...</td>\n",
       "      <td>...</td>\n",
       "      <td>...</td>\n",
       "      <td>...</td>\n",
       "      <td>...</td>\n",
       "      <td>...</td>\n",
       "    </tr>\n",
       "    <tr>\n",
       "      <th>6812</th>\n",
       "      <td>Ófærð</td>\n",
       "      <td>2015</td>\n",
       "      <td>Crime, Drama, Mystery</td>\n",
       "      <td>17309</td>\n",
       "      <td>8.1</td>\n",
       "      <td>60.0</td>\n",
       "    </tr>\n",
       "    <tr>\n",
       "      <th>6813</th>\n",
       "      <td>Órbita 9</td>\n",
       "      <td>2017</td>\n",
       "      <td>Drama, Romance, Sci-Fi</td>\n",
       "      <td>7123</td>\n",
       "      <td>5.9</td>\n",
       "      <td>95.0</td>\n",
       "    </tr>\n",
       "    <tr>\n",
       "      <th>6814</th>\n",
       "      <td>Ôkami to kôshinryô</td>\n",
       "      <td>2008</td>\n",
       "      <td>Animation, Adventure, Fantasy</td>\n",
       "      <td>3959</td>\n",
       "      <td>8.0</td>\n",
       "      <td>24.0</td>\n",
       "    </tr>\n",
       "    <tr>\n",
       "      <th>6815</th>\n",
       "      <td>Öldür Beni Sevgilim</td>\n",
       "      <td>2019</td>\n",
       "      <td>Comedy, Romance</td>\n",
       "      <td>1568</td>\n",
       "      <td>4.4</td>\n",
       "      <td>104.0</td>\n",
       "    </tr>\n",
       "    <tr>\n",
       "      <th>6816</th>\n",
       "      <td>ÜberWeihnachten</td>\n",
       "      <td>2020</td>\n",
       "      <td>Comedy, Drama, Romance</td>\n",
       "      <td>1700</td>\n",
       "      <td>6.7</td>\n",
       "      <td>48.0</td>\n",
       "    </tr>\n",
       "  </tbody>\n",
       "</table>\n",
       "<p>6817 rows × 6 columns</p>\n",
       "</div>"
      ],
      "text/plain": [
       "                         MOVIES START YEAR                          GENRE  \\\n",
       "0                13 Reasons Why       2017       Drama, Mystery, Thriller   \n",
       "1                          1899       2022         Drama, History, Horror   \n",
       "2      3Below: Tales of Arcadia       2018   Animation, Action, Adventure   \n",
       "3                          50M2       2021        Comedy, Drama, Thriller   \n",
       "4                        7Seeds       2019   Animation, Action, Adventure   \n",
       "...                         ...        ...                            ...   \n",
       "6812                      Ófærð       2015          Crime, Drama, Mystery   \n",
       "6813                   Órbita 9       2017         Drama, Romance, Sci-Fi   \n",
       "6814         Ôkami to kôshinryô       2008  Animation, Adventure, Fantasy   \n",
       "6815        Öldür Beni Sevgilim       2019                Comedy, Romance   \n",
       "6816            ÜberWeihnachten       2020         Comedy, Drama, Romance   \n",
       "\n",
       "      VOTES  RATING  RunTime(mins)  \n",
       "0      1714     5.1           59.0  \n",
       "1     20750     6.8           40.5  \n",
       "2       138     8.6           22.0  \n",
       "3       111     7.5           47.0  \n",
       "4        39     7.7           26.0  \n",
       "...     ...     ...            ...  \n",
       "6812  17309     8.1           60.0  \n",
       "6813   7123     5.9           95.0  \n",
       "6814   3959     8.0           24.0  \n",
       "6815   1568     4.4          104.0  \n",
       "6816   1700     6.7           48.0  \n",
       "\n",
       "[6817 rows x 6 columns]"
      ]
     },
     "execution_count": 76,
     "metadata": {},
     "output_type": "execute_result"
    }
   ],
   "source": [
    "df"
   ]
  },
  {
   "cell_type": "code",
   "execution_count": 77,
   "id": "1ed75621",
   "metadata": {},
   "outputs": [
    {
     "data": {
      "text/plain": [
       "2020    1428\n",
       "2019     826\n",
       "2018     795\n",
       "2017     668\n",
       "2021     583\n",
       "Freq: A-DEC, Name: START YEAR, dtype: int64"
      ]
     },
     "execution_count": 77,
     "metadata": {},
     "output_type": "execute_result"
    }
   ],
   "source": [
    "#Top 5 Years by the highest number of film production\n",
    "my_df[\"START YEAR\"].value_counts().head()"
   ]
  },
  {
   "cell_type": "code",
   "execution_count": 78,
   "id": "a10589b1",
   "metadata": {},
   "outputs": [
    {
     "data": {
      "text/plain": [
       "Comedy         708\n",
       "Drama          441\n",
       "Documentary    427\n",
       "Name: GENRE, dtype: int64"
      ]
     },
     "execution_count": 78,
     "metadata": {},
     "output_type": "execute_result"
    }
   ],
   "source": [
    "#Top 3 most Produced GENRE\n",
    "my_df[\"GENRE\"].value_counts().head(3)"
   ]
  },
  {
   "cell_type": "code",
   "execution_count": 79,
   "id": "0f058bc0",
   "metadata": {
    "scrolled": true
   },
   "outputs": [
    {
     "data": {
      "text/plain": [
       "GENRE\n",
       "Crime, Mystery, Romance          8.8\n",
       "Family, Talk-Show                8.7\n",
       "Adventure, Comedy, Reality-TV    8.6\n",
       "Documentary, Short, Sci-Fi       8.6\n",
       "Comedy, Crime, Romance           8.5\n",
       "Name: RATING, dtype: float64"
      ]
     },
     "execution_count": 79,
     "metadata": {},
     "output_type": "execute_result"
    }
   ],
   "source": [
    "#Top 5 GENRE by average Ratings\n",
    "my_df.groupby(\"GENRE\")[\"RATING\"].mean().sort_values(ascending = False).head()"
   ]
  },
  {
   "cell_type": "code",
   "execution_count": 80,
   "id": "ba10970e",
   "metadata": {},
   "outputs": [
    {
     "data": {
      "text/plain": [
       "MOVIES\n",
       " Dark                          9.5\n",
       "Stranger Things: Spotlight     9.4\n",
       " Julie and the Phantoms        9.4\n",
       "Breaking Bad                   9.4\n",
       " The Queen's Gambit            9.3\n",
       "Our Planet                     9.3\n",
       "Cosmos: A Spacetime Odyssey    9.3\n",
       "Name: RATING, dtype: float64"
      ]
     },
     "execution_count": 80,
     "metadata": {},
     "output_type": "execute_result"
    }
   ],
   "source": [
    "#Top 7 MOVIES by average Ratings\n",
    "my_df.groupby(\"MOVIES\")[\"RATING\"].mean().round(2).sort_values(ascending = False).head(7)"
   ]
  },
  {
   "cell_type": "code",
   "execution_count": 81,
   "id": "6cbeca76",
   "metadata": {},
   "outputs": [
    {
     "data": {
      "text/html": [
       "<div>\n",
       "<style scoped>\n",
       "    .dataframe tbody tr th:only-of-type {\n",
       "        vertical-align: middle;\n",
       "    }\n",
       "\n",
       "    .dataframe tbody tr th {\n",
       "        vertical-align: top;\n",
       "    }\n",
       "\n",
       "    .dataframe thead th {\n",
       "        text-align: right;\n",
       "    }\n",
       "</style>\n",
       "<table border=\"1\" class=\"dataframe\">\n",
       "  <thead>\n",
       "    <tr style=\"text-align: right;\">\n",
       "      <th></th>\n",
       "      <th>MOVIES</th>\n",
       "      <th>GENRE</th>\n",
       "      <th>RunTime(mins)</th>\n",
       "    </tr>\n",
       "  </thead>\n",
       "  <tbody>\n",
       "    <tr>\n",
       "      <th>1984</th>\n",
       "      <td>El tiempo entre costuras</td>\n",
       "      <td>Adventure, Drama, History</td>\n",
       "      <td>853.0</td>\n",
       "    </tr>\n",
       "    <tr>\n",
       "      <th>5086</th>\n",
       "      <td>Soupçons</td>\n",
       "      <td>Documentary, Crime, Drama</td>\n",
       "      <td>629.0</td>\n",
       "    </tr>\n",
       "    <tr>\n",
       "      <th>5689</th>\n",
       "      <td>The Innocence Files</td>\n",
       "      <td>Documentary, Crime</td>\n",
       "      <td>573.0</td>\n",
       "    </tr>\n",
       "    <tr>\n",
       "      <th>5644</th>\n",
       "      <td>The Haunting of Hill House</td>\n",
       "      <td>Drama, Horror, Mystery</td>\n",
       "      <td>572.0</td>\n",
       "    </tr>\n",
       "    <tr>\n",
       "      <th>1533</th>\n",
       "      <td>Cosmos: A Spacetime Odyssey</td>\n",
       "      <td>Documentary</td>\n",
       "      <td>557.0</td>\n",
       "    </tr>\n",
       "    <tr>\n",
       "      <th>1826</th>\n",
       "      <td>Dogs of Berlin</td>\n",
       "      <td>Action, Crime, Drama</td>\n",
       "      <td>542.0</td>\n",
       "    </tr>\n",
       "    <tr>\n",
       "      <th>5643</th>\n",
       "      <td>The Haunting of Bly Manor</td>\n",
       "      <td>Drama, Horror, Mystery</td>\n",
       "      <td>494.0</td>\n",
       "    </tr>\n",
       "    <tr>\n",
       "      <th>5736</th>\n",
       "      <td>The Last Dance</td>\n",
       "      <td>Documentary, Biography, History</td>\n",
       "      <td>491.0</td>\n",
       "    </tr>\n",
       "    <tr>\n",
       "      <th>1975</th>\n",
       "      <td>El inocente</td>\n",
       "      <td>Crime, Drama, Mystery</td>\n",
       "      <td>467.0</td>\n",
       "    </tr>\n",
       "    <tr>\n",
       "      <th>2379</th>\n",
       "      <td>Giri/Haji</td>\n",
       "      <td>Crime, Drama, Mystery</td>\n",
       "      <td>461.0</td>\n",
       "    </tr>\n",
       "  </tbody>\n",
       "</table>\n",
       "</div>"
      ],
      "text/plain": [
       "                           MOVIES                            GENRE  \\\n",
       "1984     El tiempo entre costuras        Adventure, Drama, History   \n",
       "5086                     Soupçons        Documentary, Crime, Drama   \n",
       "5689          The Innocence Files               Documentary, Crime   \n",
       "5644   The Haunting of Hill House           Drama, Horror, Mystery   \n",
       "1533  Cosmos: A Spacetime Odyssey                      Documentary   \n",
       "1826               Dogs of Berlin             Action, Crime, Drama   \n",
       "5643    The Haunting of Bly Manor           Drama, Horror, Mystery   \n",
       "5736               The Last Dance  Documentary, Biography, History   \n",
       "1975                  El inocente            Crime, Drama, Mystery   \n",
       "2379                    Giri/Haji            Crime, Drama, Mystery   \n",
       "\n",
       "      RunTime(mins)  \n",
       "1984          853.0  \n",
       "5086          629.0  \n",
       "5689          573.0  \n",
       "5644          572.0  \n",
       "1533          557.0  \n",
       "1826          542.0  \n",
       "5643          494.0  \n",
       "5736          491.0  \n",
       "1975          467.0  \n",
       "2379          461.0  "
      ]
     },
     "execution_count": 81,
     "metadata": {},
     "output_type": "execute_result"
    }
   ],
   "source": [
    "#Top 10 Longest movies by RunTime(movie duration) in minutes\n",
    "my_df[[\"MOVIES\", \"GENRE\", \"RunTime(mins)\"]].sort_values(by = \"RunTime(mins)\", ascending = False).head(10)"
   ]
  },
  {
   "cell_type": "code",
   "execution_count": 82,
   "id": "6cb2e464",
   "metadata": {},
   "outputs": [
    {
     "data": {
      "text/html": [
       "<div>\n",
       "<style scoped>\n",
       "    .dataframe tbody tr th:only-of-type {\n",
       "        vertical-align: middle;\n",
       "    }\n",
       "\n",
       "    .dataframe tbody tr th {\n",
       "        vertical-align: top;\n",
       "    }\n",
       "\n",
       "    .dataframe thead th {\n",
       "        text-align: right;\n",
       "    }\n",
       "</style>\n",
       "<table border=\"1\" class=\"dataframe\">\n",
       "  <thead>\n",
       "    <tr style=\"text-align: right;\">\n",
       "      <th></th>\n",
       "      <th>MOVIES</th>\n",
       "      <th>VOTES</th>\n",
       "    </tr>\n",
       "  </thead>\n",
       "  <tbody>\n",
       "    <tr>\n",
       "      <th>5765</th>\n",
       "      <td>The Lord of the Rings: The Fellowship of the Ring</td>\n",
       "      <td>1713028</td>\n",
       "    </tr>\n",
       "    <tr>\n",
       "      <th>5766</th>\n",
       "      <td>The Lord of the Rings: The Return of the King</td>\n",
       "      <td>1691777</td>\n",
       "    </tr>\n",
       "    <tr>\n",
       "      <th>1225</th>\n",
       "      <td>Breaking Bad</td>\n",
       "      <td>1552311</td>\n",
       "    </tr>\n",
       "    <tr>\n",
       "      <th>5767</th>\n",
       "      <td>The Lord of the Rings: The Two Towers</td>\n",
       "      <td>1529752</td>\n",
       "    </tr>\n",
       "    <tr>\n",
       "      <th>5535</th>\n",
       "      <td>The Departed</td>\n",
       "      <td>1227522</td>\n",
       "    </tr>\n",
       "  </tbody>\n",
       "</table>\n",
       "</div>"
      ],
      "text/plain": [
       "                                                 MOVIES    VOTES\n",
       "5765  The Lord of the Rings: The Fellowship of the Ring  1713028\n",
       "5766      The Lord of the Rings: The Return of the King  1691777\n",
       "1225                                       Breaking Bad  1552311\n",
       "5767              The Lord of the Rings: The Two Towers  1529752\n",
       "5535                                       The Departed  1227522"
      ]
     },
     "execution_count": 82,
     "metadata": {},
     "output_type": "execute_result"
    }
   ],
   "source": [
    "#Top five most prefferred movies by votes\n",
    "my_df[[\"MOVIES\", \"VOTES\"]].sort_values(by = \"VOTES\", ascending = False).head(5)"
   ]
  },
  {
   "cell_type": "code",
   "execution_count": 83,
   "id": "21dffd36",
   "metadata": {},
   "outputs": [
    {
     "data": {
      "text/plain": [
       "GENRE\n",
       "Adventure, Thriller          558731.0\n",
       "Adventure, Sci-Fi            396839.5\n",
       "Action, Comedy, War          391033.0\n",
       "Adventure, Fantasy           272044.0\n",
       "Action, Adventure, Sci-Fi    268722.6\n",
       "Name: VOTES, dtype: float64"
      ]
     },
     "execution_count": 83,
     "metadata": {},
     "output_type": "execute_result"
    }
   ],
   "source": [
    "#Top five most preferred GENRE by number of votes\n",
    "my_df.groupby(\"GENRE\")[\"VOTES\"].mean().round(1).sort_values(ascending = False).head()"
   ]
  },
  {
   "cell_type": "code",
   "execution_count": 84,
   "id": "b4060605",
   "metadata": {},
   "outputs": [
    {
     "data": {
      "text/plain": [
       "MOVIES\n",
       "The Lord of the Rings: The Fellowship of the Ring    1713028\n",
       "The Lord of the Rings: The Return of the King        1691777\n",
       "Breaking Bad                                         1552311\n",
       "The Lord of the Rings: The Two Towers                1529752\n",
       "The Departed                                         1227522\n",
       "Kill Bill: Vol. 1                                    1034554\n",
       "Jurassic Park                                         897444\n",
       "Gone Girl                                             895888\n",
       "Stranger Things                                       885856\n",
       "The Walking Dead                                      885805\n",
       "Name: VOTES, dtype: int32"
      ]
     },
     "execution_count": 84,
     "metadata": {},
     "output_type": "execute_result"
    }
   ],
   "source": [
    "#Top 10 most preferred MOVIES by number of votes\n",
    "my_df.groupby(\"MOVIES\")[\"VOTES\"].sum().round(1).sort_values(ascending = False).head(10)"
   ]
  },
  {
   "cell_type": "code",
   "execution_count": 85,
   "id": "3179fff9",
   "metadata": {},
   "outputs": [
    {
     "data": {
      "text/plain": [
       "    Jay Karas                      16\n",
       "    Marcus Raboy                   15\n",
       "    Raúl Campos, Jan Suter         15\n",
       "    Jay Chapman                    14\n",
       "Name: DIRECTOR(s), dtype: int64"
      ]
     },
     "execution_count": 85,
     "metadata": {},
     "output_type": "execute_result"
    }
   ],
   "source": [
    "#Top five directors by number of directed movies\n",
    "my_df[\"DIRECTOR(s)\"].value_counts().head()[1:]"
   ]
  },
  {
   "cell_type": "code",
   "execution_count": 86,
   "id": "b175aa05",
   "metadata": {},
   "outputs": [
    {
     "data": {
      "text/html": [
       "<div>\n",
       "<style scoped>\n",
       "    .dataframe tbody tr th:only-of-type {\n",
       "        vertical-align: middle;\n",
       "    }\n",
       "\n",
       "    .dataframe tbody tr th {\n",
       "        vertical-align: top;\n",
       "    }\n",
       "\n",
       "    .dataframe thead th {\n",
       "        text-align: right;\n",
       "    }\n",
       "</style>\n",
       "<table border=\"1\" class=\"dataframe\">\n",
       "  <thead>\n",
       "    <tr style=\"text-align: right;\">\n",
       "      <th></th>\n",
       "      <th>VOTES</th>\n",
       "      <th>RATING</th>\n",
       "      <th>RunTime(mins)</th>\n",
       "    </tr>\n",
       "  </thead>\n",
       "  <tbody>\n",
       "    <tr>\n",
       "      <th>count</th>\n",
       "      <td>6.817000e+03</td>\n",
       "      <td>6817.000000</td>\n",
       "      <td>6817.000000</td>\n",
       "    </tr>\n",
       "    <tr>\n",
       "      <th>mean</th>\n",
       "      <td>2.075070e+04</td>\n",
       "      <td>6.611031</td>\n",
       "      <td>76.758765</td>\n",
       "    </tr>\n",
       "    <tr>\n",
       "      <th>std</th>\n",
       "      <td>7.590064e+04</td>\n",
       "      <td>1.206987</td>\n",
       "      <td>46.660656</td>\n",
       "    </tr>\n",
       "    <tr>\n",
       "      <th>min</th>\n",
       "      <td>5.000000e+00</td>\n",
       "      <td>1.100000</td>\n",
       "      <td>1.000000</td>\n",
       "    </tr>\n",
       "    <tr>\n",
       "      <th>25%</th>\n",
       "      <td>4.600000e+02</td>\n",
       "      <td>5.900000</td>\n",
       "      <td>45.000000</td>\n",
       "    </tr>\n",
       "    <tr>\n",
       "      <th>50%</th>\n",
       "      <td>2.335000e+03</td>\n",
       "      <td>6.700000</td>\n",
       "      <td>76.700000</td>\n",
       "    </tr>\n",
       "    <tr>\n",
       "      <th>75%</th>\n",
       "      <td>2.075000e+04</td>\n",
       "      <td>7.500000</td>\n",
       "      <td>98.000000</td>\n",
       "    </tr>\n",
       "    <tr>\n",
       "      <th>max</th>\n",
       "      <td>1.713028e+06</td>\n",
       "      <td>9.500000</td>\n",
       "      <td>853.000000</td>\n",
       "    </tr>\n",
       "  </tbody>\n",
       "</table>\n",
       "</div>"
      ],
      "text/plain": [
       "              VOTES       RATING  RunTime(mins)\n",
       "count  6.817000e+03  6817.000000    6817.000000\n",
       "mean   2.075070e+04     6.611031      76.758765\n",
       "std    7.590064e+04     1.206987      46.660656\n",
       "min    5.000000e+00     1.100000       1.000000\n",
       "25%    4.600000e+02     5.900000      45.000000\n",
       "50%    2.335000e+03     6.700000      76.700000\n",
       "75%    2.075000e+04     7.500000      98.000000\n",
       "max    1.713028e+06     9.500000     853.000000"
      ]
     },
     "execution_count": 86,
     "metadata": {},
     "output_type": "execute_result"
    }
   ],
   "source": [
    "my_df.describe()"
   ]
  },
  {
   "cell_type": "code",
   "execution_count": 87,
   "id": "e0b1ac55",
   "metadata": {},
   "outputs": [
    {
     "data": {
      "text/html": [
       "<div>\n",
       "<style scoped>\n",
       "    .dataframe tbody tr th:only-of-type {\n",
       "        vertical-align: middle;\n",
       "    }\n",
       "\n",
       "    .dataframe tbody tr th {\n",
       "        vertical-align: top;\n",
       "    }\n",
       "\n",
       "    .dataframe thead th {\n",
       "        text-align: right;\n",
       "    }\n",
       "</style>\n",
       "<table border=\"1\" class=\"dataframe\">\n",
       "  <thead>\n",
       "    <tr style=\"text-align: right;\">\n",
       "      <th></th>\n",
       "      <th>VOTES</th>\n",
       "      <th>RATING</th>\n",
       "      <th>RunTime(mins)</th>\n",
       "    </tr>\n",
       "  </thead>\n",
       "  <tbody>\n",
       "    <tr>\n",
       "      <th>VOTES</th>\n",
       "      <td>1.000000</td>\n",
       "      <td>0.166216</td>\n",
       "      <td>0.102600</td>\n",
       "    </tr>\n",
       "    <tr>\n",
       "      <th>RATING</th>\n",
       "      <td>0.166216</td>\n",
       "      <td>1.000000</td>\n",
       "      <td>-0.084338</td>\n",
       "    </tr>\n",
       "    <tr>\n",
       "      <th>RunTime(mins)</th>\n",
       "      <td>0.102600</td>\n",
       "      <td>-0.084338</td>\n",
       "      <td>1.000000</td>\n",
       "    </tr>\n",
       "  </tbody>\n",
       "</table>\n",
       "</div>"
      ],
      "text/plain": [
       "                  VOTES    RATING  RunTime(mins)\n",
       "VOTES          1.000000  0.166216       0.102600\n",
       "RATING         0.166216  1.000000      -0.084338\n",
       "RunTime(mins)  0.102600 -0.084338       1.000000"
      ]
     },
     "execution_count": 87,
     "metadata": {},
     "output_type": "execute_result"
    }
   ],
   "source": [
    "my_df.corr()"
   ]
  },
  {
   "cell_type": "code",
   "execution_count": 88,
   "id": "2575e2b8",
   "metadata": {},
   "outputs": [
    {
     "data": {
      "text/plain": [
       "Dave Chappelle                                                6\n",
       "Jeff Dunham                                                   5\n",
       "John Paul Tremblay, Robb Wells, Mike Smith, Patrick Roach     4\n",
       "John Paul Tremblay, Robb Wells, Mike Smith, John Dunsworth    4\n",
       "Name: STARS, dtype: int64"
      ]
     },
     "execution_count": 88,
     "metadata": {},
     "output_type": "execute_result"
    }
   ],
   "source": [
    "#Top 5 most active crew by number of movies featured\n",
    "my_df[\"STARS\"].value_counts().head()[1:]"
   ]
  },
  {
   "cell_type": "markdown",
   "id": "1ddf4ee7",
   "metadata": {},
   "source": [
    "#### DATA VISUALIZATION WITH PYTHON"
   ]
  },
  {
   "cell_type": "code",
   "execution_count": 90,
   "id": "6ba54ede",
   "metadata": {},
   "outputs": [],
   "source": [
    "import matplotlib.pyplot as plt\n",
    "import seaborn as sns\n",
    "import plotly.express as px"
   ]
  },
  {
   "cell_type": "markdown",
   "id": "387803b3",
   "metadata": {},
   "source": [
    "###### The purpose of the visualization is to cascade the gotten insights to others using visuals"
   ]
  },
  {
   "cell_type": "code",
   "execution_count": 92,
   "id": "c247426e",
   "metadata": {},
   "outputs": [
    {
     "data": {
      "image/png": "[encoded data removed]",
      "text/plain": [
       "<Figure size 900x400 with 1 Axes>"
      ]
     },
     "metadata": {},
     "output_type": "display_data"
    }
   ],
   "source": [
    "genre_count = my_df[\"GENRE\"].value_counts().sort_values(ascending = False).head()\n",
    "plt.figure(figsize = (9, 4))\n",
    "plt.bar(genre_count.index, genre_count.values)\n",
    "plt.title(\"Top 5 most produced genre of movie\")\n",
    "plt.xlabel(\"Genre name\")\n",
    "plt.ylabel(\"Number of movies\")\n",
    "plt.show();"
   ]
  },
  {
   "cell_type": "code",
   "execution_count": 93,
   "id": "c6e1b4e8",
   "metadata": {},
   "outputs": [
    {
     "data": {
      "image/png": "[encoded data removed]",
      "text/plain": [
       "<Figure size 1700x600 with 1 Axes>"
      ]
     },
     "metadata": {},
     "output_type": "display_data"
    }
   ],
   "source": [
    "#Top 5 GENRE of movie by average Ratings\n",
    "ratings = my_df.groupby(\"GENRE\")[\"RATING\"].mean().sort_values(ascending = False).head()\n",
    "plt.figure(figsize = (17, 6))\n",
    "bars = plt.bar(ratings.index, ratings.values)\n",
    "for bar in bars:\n",
    "    yval = bar.get_height()\n",
    "    plt.text(bar.get_x() + bar.get_width()/2, yval, f'{yval}', ha='center', va='bottom')\n",
    "plt.title(\"Top 5 most rated genre of movie\")\n",
    "plt.xlabel(\"Genre name\")\n",
    "plt.ylabel(\"Average ratings\")\n",
    "plt.show();"
   ]
  },
  {
   "cell_type": "code",
   "execution_count": 94,
   "id": "5daf37d1",
   "metadata": {},
   "outputs": [
    {
     "data": {
      "image/png": "[encoded data removed]",
      "text/plain": [
       "<Figure size 800x400 with 1 Axes>"
      ]
     },
     "metadata": {},
     "output_type": "display_data"
    }
   ],
   "source": [
    "#Convert the year column to integer to make visualization possible\n",
    "my_df['START YEAR'] = my_df['START YEAR'].astype(str).str[:4].astype(int)\n",
    "\n",
    "# Count the number of movies per year and sort by year\n",
    "yearly_counts = my_df[\"START YEAR\"].value_counts().sort_index()\n",
    "\n",
    "# Plotting the distribution\n",
    "plt.figure(figsize=(8, 4))\n",
    "plt.plot(yearly_counts.index, yearly_counts.values, marker='o', linestyle='-', color='b')\n",
    "plt.title(\"Distribution of Movies Produced Over the Years\")\n",
    "plt.xlabel(\"Year\")\n",
    "plt.ylabel(\"Number of Movies\")\n",
    "plt.grid(True)\n",
    "plt.show()"
   ]
  },
  {
   "cell_type": "code",
   "execution_count": 95,
   "id": "034c762f",
   "metadata": {},
   "outputs": [
    {
     "data": {
      "image/png": "[encoded data removed]",
      "text/plain": [
       "<Figure size 600x400 with 1 Axes>"
      ]
     },
     "metadata": {},
     "output_type": "display_data"
    }
   ],
   "source": [
    "year = my_df[\"START YEAR\"].value_counts().sort_values(ascending = False).head()\n",
    "month_df = pd.DataFrame(year)\n",
    "plt.figure(figsize = (6, 4))\n",
    "bars = plt.bar(month_df[\"START YEAR\"].index, month_df[\"START YEAR\"].values, color = \"black\")\n",
    "for bar in bars:\n",
    "    yval = bar.get_height()\n",
    "    plt.text(bar.get_x() + bar.get_width()/2, yval, f'{yval}', ha='center', va='bottom')\n",
    "plt.title(\"Top 5 years by the number of released movies\")\n",
    "plt.xlabel(\"year\")\n",
    "plt.ylabel(\"Number of movies\")\n",
    "plt.show;"
   ]
  },
  {
   "cell_type": "code",
   "execution_count": 96,
   "id": "34497674",
   "metadata": {},
   "outputs": [
    {
     "data": {
      "image/png": "[encoded data removed]",
      "text/plain": [
       "<Figure size 600x400 with 1 Axes>"
      ]
     },
     "metadata": {},
     "output_type": "display_data"
    }
   ],
   "source": [
    "#To check if there is any correlation between Rating and Votes\n",
    "plt.figure(figsize=(6, 4))\n",
    "sns.scatterplot(x='RATING', y='VOTES', data=my_df)\n",
    "plt.title('Scatter Plot of Rating vs Votes')\n",
    "plt.xlabel('Ratings')\n",
    "plt.ylabel('Votes')\n",
    "plt.grid(True)\n",
    "plt.show()"
   ]
  },
  {
   "cell_type": "code",
   "execution_count": 97,
   "id": "4343bbaf",
   "metadata": {},
   "outputs": [
    {
     "data": {
      "image/png": "[encoded data removed]",
      "text/plain": [
       "<Figure size 2200x800 with 1 Axes>"
      ]
     },
     "metadata": {},
     "output_type": "display_data"
    }
   ],
   "source": [
    "total_votes = my_df.groupby('MOVIES')['VOTES'].sum().sort_values(ascending = False).head()\n",
    "plt.figure(figsize = (22, 8))\n",
    "bars = plt.bar(total_votes.index, total_votes.values)\n",
    "\n",
    "# Add labels on top of bars\n",
    "for bar in bars:\n",
    "    yval = bar.get_height()\n",
    "    plt.text(bar.get_x() + bar.get_width()/2, yval, f'{yval}', ha='center', va='bottom')\n",
    "\n",
    "# Add labels and title\n",
    "plt.xlabel('Movies')\n",
    "plt.ylabel('Sum of votes')\n",
    "plt.title('Best five movies by number of votes')\n",
    "\n",
    "# Show plot\n",
    "plt.show();"
   ]
  },
  {
   "cell_type": "code",
   "execution_count": 98,
   "id": "81976ca6",
   "metadata": {},
   "outputs": [
    {
     "data": {
      "image/png": "[encoded data removed]",
      "text/plain": [
       "<Figure size 1400x600 with 1 Axes>"
      ]
     },
     "metadata": {},
     "output_type": "display_data"
    }
   ],
   "source": [
    "movie_rating = my_df.groupby('MOVIES')['RATING'].mean().sort_values(ascending = False).head()\n",
    "plt.figure(figsize = (14, 6))\n",
    "bars = plt.bar(movie_rating.index, movie_rating.values)\n",
    "\n",
    "# Add labels on top of bars\n",
    "for bar in bars:\n",
    "    yval = bar.get_height()\n",
    "    plt.text(bar.get_x() + bar.get_width()/2, yval, f'{yval}', ha='center', va='bottom')\n",
    "\n",
    "# Add labels and title\n",
    "plt.xlabel('Movies')\n",
    "plt.ylabel('Average Ratings')\n",
    "plt.title('Five most ranked movies by average ratings')\n",
    "\n",
    "# Show plot\n",
    "plt.show();"
   ]
  },
  {
   "cell_type": "code",
   "execution_count": 99,
   "id": "f18f338e",
   "metadata": {},
   "outputs": [
    {
     "data": {
      "image/png": "[encoded data removed]",
      "text/plain": [
       "<Figure size 1400x600 with 1 Axes>"
      ]
     },
     "metadata": {},
     "output_type": "display_data"
    }
   ],
   "source": [
    "movie_duration = my_df.groupby('MOVIES')['RunTime(mins)'].sum().sort_values(ascending = False).head()\n",
    "plt.figure(figsize = (14, 6))\n",
    "bars = plt.bar(movie_duration.index, movie_duration.values)\n",
    "\n",
    "# Add labels on top of bars\n",
    "for bar in bars:\n",
    "    yval = bar.get_height()\n",
    "    plt.text(bar.get_x() + bar.get_width()/2, yval, f'{yval}', ha='center', va='bottom')\n",
    "\n",
    "# Add labels and title\n",
    "plt.xlabel('Movies')\n",
    "plt.ylabel('Duration in minutes')\n",
    "plt.title('Top five longest movies')\n",
    "\n",
    "# Show plot\n",
    "plt.show();"
   ]
  },
  {
   "cell_type": "code",
   "execution_count": 100,
   "id": "577425f8",
   "metadata": {},
   "outputs": [
    {
     "data": {
      "image/png": "[encoded data removed]",
      "text/plain": [
       "<Figure size 1400x600 with 1 Axes>"
      ]
     },
     "metadata": {},
     "output_type": "display_data"
    }
   ],
   "source": [
    "genre_duration = my_df.groupby('GENRE')['RunTime(mins)'].mean().round(2).sort_values(ascending = False).head()\n",
    "plt.figure(figsize = (14, 6))\n",
    "bars = plt.bar(genre_duration.index, genre_duration.values)\n",
    "\n",
    "# Add labels on top of bars\n",
    "for bar in bars:\n",
    "    yval = bar.get_height()\n",
    "    plt.text(bar.get_x() + bar.get_width()/2, yval, f'{yval}', ha='center', va='bottom')\n",
    "\n",
    "# Add labels and title\n",
    "plt.xlabel('Genre')\n",
    "plt.ylabel('Average duration in minutes')\n",
    "plt.title('Top movie genre by Runtime')\n",
    "\n",
    "# Show plot\n",
    "plt.show();"
   ]
  },
  {
   "cell_type": "code",
   "execution_count": 101,
   "id": "0ec558af",
   "metadata": {},
   "outputs": [
    {
     "data": {
      "image/png": "[encoded data removed]",
      "text/plain": [
       "<Figure size 640x480 with 2 Axes>"
      ]
     },
     "metadata": {},
     "output_type": "display_data"
    }
   ],
   "source": [
    "#To check out the correlation between the numerical column\n",
    "numeric_df = my_df[[\"VOTES\", \"RATING\", \"RunTime(mins)\"]]\n",
    "correlation_map = numeric_df.corr()\n",
    "sns.heatmap(correlation_map, cmap = 'coolwarm')\n",
    "plt.title('Correlation Heat map of the dataset')\n",
    "plt.show();"
   ]
  },
  {
   "cell_type": "markdown",
   "id": "016c530b",
   "metadata": {},
   "source": [
    "###### Insight from correlation map\n",
    "* A  very weak positive correlation or relationship between the RATING and the VOTES columns\n",
    "* A very weak negative correlation or relationship between the RATING and the RunTime columns\n",
    "* A weak positive correlation or relationship between the RunTime and the VOTES columns"
   ]
  },
  {
   "cell_type": "markdown",
   "id": "f54f0386",
   "metadata": {},
   "source": [
    "### *`Data Analysis with SQL output`*"
   ]
  },
  {
   "cell_type": "markdown",
   "id": "5132d3d6",
   "metadata": {},
   "source": [
    "###### *From the Data analysis done with SQL, the following were the outputs:*\n",
    "* Most voted movie >>> The Lord of the Rings: The fellowship of the Ring\n",
    "\n",
    "* Movie with the longest runtime >>> El tiempo entre costuras with runtime of 853mins\n",
    "\n",
    "* Year with the highest number of movies >>> 2020 (1770 movies)\n",
    "\n",
    "* Genre with the highest number of movies >>> Comedy (797 movies)\n",
    "\n",
    "Kindly find attached the SQL script"
   ]
  },
  {
   "cell_type": "code",
   "execution_count": null,
   "id": "9594105c",
   "metadata": {},
   "outputs": [],
   "source": []
  }
 ],
 "metadata": {
  "kernelspec": {
   "display_name": "Python 3 (ipykernel)",
   "language": "python",
   "name": "python3"
  },
  "language_info": {
   "codemirror_mode": {
    "name": "ipython",
    "version": 3
   },
   "file_extension": ".py",
   "mimetype": "text/x-python",
   "name": "python",
   "nbconvert_exporter": "python",
   "pygments_lexer": "ipython3",
   "version": "3.10.14"
  }
 },
 "nbformat": 4,
 "nbformat_minor": 5
}
